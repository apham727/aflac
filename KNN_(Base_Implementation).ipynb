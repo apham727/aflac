{
  "nbformat": 4,
  "nbformat_minor": 0,
  "metadata": {
    "colab": {
      "name": "KNN (Base Implementation).ipynb",
      "provenance": []
    },
    "kernelspec": {
      "name": "python3",
      "display_name": "Python 3"
    },
    "accelerator": "TPU"
  },
  "cells": [
    {
      "cell_type": "code",
      "metadata": {
        "id": "a52tycj-kH_Z",
        "colab_type": "code",
        "outputId": "5c8672b8-2574-4dab-8d48-e7807abc614e",
        "colab": {
          "base_uri": "https://localhost:8080/",
          "height": 139
        }
      },
      "source": [
        "pip install soundfile"
      ],
      "execution_count": 0,
      "outputs": [
        {
          "output_type": "stream",
          "text": [
            "Collecting soundfile\n",
            "  Downloading https://files.pythonhosted.org/packages/eb/f2/3cbbbf3b96fb9fa91582c438b574cff3f45b29c772f94c400e2c99ef5db9/SoundFile-0.10.3.post1-py2.py3-none-any.whl\n",
            "Requirement already satisfied: cffi>=1.0 in /usr/local/lib/python3.6/dist-packages (from soundfile) (1.13.2)\n",
            "Requirement already satisfied: pycparser in /usr/local/lib/python3.6/dist-packages (from cffi>=1.0->soundfile) (2.19)\n",
            "Installing collected packages: soundfile\n",
            "Successfully installed soundfile-0.10.3.post1\n"
          ],
          "name": "stdout"
        }
      ]
    },
    {
      "cell_type": "code",
      "metadata": {
        "id": "22Yuv071k5eo",
        "colab_type": "code",
        "colab": {}
      },
      "source": [
        "!pip install -q torch==1.3.1 torchvision"
      ],
      "execution_count": 0,
      "outputs": []
    },
    {
      "cell_type": "code",
      "metadata": {
        "id": "zoLT9QJIlL1L",
        "colab_type": "code",
        "colab": {}
      },
      "source": [
        "import seaborn\n",
        "import pandas as pd\n",
        "from google.colab import files\n",
        "import numpy as np\n",
        "from tqdm import tqdm\n",
        "import soundfile as sf\n",
        "import librosa\n",
        "import os\n",
        "import dask as dd\n",
        "import sklearn \n",
        "import torch"
      ],
      "execution_count": 0,
      "outputs": []
    },
    {
      "cell_type": "code",
      "metadata": {
        "id": "QD4-h7ZilXVx",
        "colab_type": "code",
        "outputId": "ad1a38ab-2dc9-479d-da69-e864e1f3ff96",
        "colab": {
          "base_uri": "https://localhost:8080/",
          "height": 34
        }
      },
      "source": [
        "from google.colab import drive\n",
        "drive.mount('/content/drive')"
      ],
      "execution_count": 0,
      "outputs": [
        {
          "output_type": "stream",
          "text": [
            "Drive already mounted at /content/drive; to attempt to forcibly remount, call drive.mount(\"/content/drive\", force_remount=True).\n"
          ],
          "name": "stdout"
        }
      ]
    },
    {
      "cell_type": "code",
      "metadata": {
        "id": "Vd5RPVWbl3DR",
        "colab_type": "code",
        "outputId": "f15f4303-4421-45e3-a147-50c753d6e4b3",
        "colab": {
          "base_uri": "https://localhost:8080/",
          "height": 34
        }
      },
      "source": [
        "pip install python_speech_features"
      ],
      "execution_count": 0,
      "outputs": [
        {
          "output_type": "stream",
          "text": [
            "Requirement already satisfied: python_speech_features in /usr/local/lib/python3.6/dist-packages (0.6)\n"
          ],
          "name": "stdout"
        }
      ]
    },
    {
      "cell_type": "code",
      "metadata": {
        "id": "sv7Fct6VmAn2",
        "colab_type": "code",
        "outputId": "fe153939-2d64-444f-9cd6-ee8170419714",
        "colab": {
          "base_uri": "https://localhost:8080/",
          "height": 105
        }
      },
      "source": [
        "pip install pydub"
      ],
      "execution_count": 0,
      "outputs": [
        {
          "output_type": "stream",
          "text": [
            "Collecting pydub\n",
            "  Downloading https://files.pythonhosted.org/packages/79/db/eaf620b73a1eec3c8c6f8f5b0b236a50f9da88ad57802154b7ba7664d0b8/pydub-0.23.1-py2.py3-none-any.whl\n",
            "Installing collected packages: pydub\n",
            "Successfully installed pydub-0.23.1\n"
          ],
          "name": "stdout"
        }
      ]
    },
    {
      "cell_type": "code",
      "metadata": {
        "id": "Hb3Nz_xvmE7n",
        "colab_type": "code",
        "colab": {}
      },
      "source": [
        "import numpy as np\n",
        "import scipy.io.wavfile as wave\n",
        "import python_speech_features as psf\n",
        "from pydub import AudioSegment"
      ],
      "execution_count": 0,
      "outputs": []
    },
    {
      "cell_type": "code",
      "metadata": {
        "id": "UPIFXWFy0Xki",
        "colab_type": "code",
        "outputId": "50beeabc-2fd4-4dfa-8b6f-e923cba3b286",
        "colab": {
          "base_uri": "https://localhost:8080/",
          "height": 85
        }
      },
      "source": [
        "def getSignal(path):\n",
        "    #open wav file\n",
        "    (rate,sig) = wave.read(path)\n",
        "    sig = sig[:22050] #Was 22050\n",
        "    #print(len(sig))\n",
        "    return sig\n",
        "\n",
        "#Obtain a list of all the numpy arrays of the test and training signals\n",
        "test_files = os.listdir('/content/drive/Shared drives/301FP/LPF_Test_Files_Shortened')\n",
        "training_files = os.listdir('/content/drive/Shared drives/301FP/unzipped/LPF_train/filtered_files')\n",
        "print (len(test_files))\n",
        "print (len(training_files))\n",
        "test_sigs = [getSignal('/content/drive/Shared drives/301FP/LPF_Test_Files_Shortened/' + x) for x in test_files]\n",
        "print('Finished the test files')\n",
        "train_sigs = [getSignal('/content/drive/Shared drives/301FP/unzipped/LPF_train/filtered_files/' + y) for y in training_files]\n",
        "print('Finished the training files')"
      ],
      "execution_count": 0,
      "outputs": [
        {
          "output_type": "stream",
          "text": [
            "541\n",
            "2757\n",
            "Finished the test files\n",
            "Finished the training files\n"
          ],
          "name": "stdout"
        }
      ]
    },
    {
      "cell_type": "code",
      "metadata": {
        "id": "bLRK17M17PPy",
        "colab_type": "code",
        "colab": {}
      },
      "source": [
        "import csv\n",
        "\n",
        "#Get the training data, labels, and test signals for KNN\n",
        "training_data = pd.read_csv('/content/drive/Shared drives/301FP/Data_Folder/train.csv')\n",
        "#print(training_data) #To verify the training data is the same length as what I downloaded from our drive\n",
        "train_sigs = list(train_sigs)\n",
        "test_sigs = list(test_sigs)\n",
        "files = training_data['fname'].tolist()\n",
        "labels = training_data['label'].tolist()\n",
        "\n",
        "#Fine tune this base implementation of KNN\n",
        "def KNN(num_of_neighbors, norm, train_data, train_data2, file_names, test_data, labelnames):\n",
        "  \"\"\"\n",
        "  Inputs:\n",
        "  num_of_neighbors: An integer representing how many neighbors to consider for classification\n",
        "  norm: An integer representing the norm to use for calculating distance\n",
        "  train_data: A list containing all of the training files\n",
        "  train_data2: A list containing all of the training file names, corresponding to train_data\n",
        "  train_data_names: A list of all the names of the .wav training files\n",
        "  test_data: A list containing all of the test files\n",
        "  labelnames: A list containing the labels of the training data\n",
        "\n",
        "  Returns: A list containing the test data's corresponding labels\n",
        "  \"\"\"\n",
        "  num_of_trains = len(train_data)\n",
        "  num_of_tests = len(test_data)\n",
        "  our_test = [0 for i in range(len(test_data))]\n",
        "  for i in range(num_of_tests):\n",
        "    norms = [0 for a in range(num_of_trains)]\n",
        "    smallest_indices = [0 for a in range(num_of_neighbors)]\n",
        "    for j in range(num_of_trains):\n",
        "      norms[j] = (sum([(test_data[j][b]-train_data[i][b])**norm for b in range(0,22050)]))**(1.0/norm)\n",
        "    for k in range(num_of_neighbors):\n",
        "      minimum = min(norms)\n",
        "      idx = norms.index(minimum)\n",
        "      norms[idx] = float('inf')\n",
        "      best_fit = train_data2[idx]\n",
        "      idx2 = file_names.index(best_fit)\n",
        "      smallest_indices[k] = labelnames(idx2)\n",
        "    mode = max(set(smallest_indices), key = smallest_indices.count)\n",
        "    our_test[i] = mode\n",
        "  return our_test\n",
        "\n",
        "(test, label) = KNN(9, 2, train_sigs, training_files, files, test_sigs, labels)"
      ],
      "execution_count": 0,
      "outputs": []
    }
  ]
}