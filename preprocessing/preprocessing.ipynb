{
  "nbformat": 4,
  "nbformat_minor": 0,
  "metadata": {
    "colab": {
      "name": "preprocessing.ipynb",
      "provenance": [],
      "collapsed_sections": []
    },
    "kernelspec": {
      "name": "python3",
      "display_name": "Python 3"
    },
    "accelerator": "GPU"
  },
  "cells": [
    {
      "cell_type": "markdown",
      "metadata": {
        "id": "44UUGryTI3GV",
        "colab_type": "text"
      },
      "source": [
        "This procedure was used to generate 20 melspectrogram coefficients from the training data. \n",
        "\n",
        "First, we took the low-pass filtered files from the training set (done in the preprocessing stage) and then converted each one into a melspectrogram. From those melspectrograms, we extracted 20 coefficients. These 20 coefficients would later be used in both the Random Forest and Convolutional Neural Network models as the training set. \n"
      ]
    },
    {
      "cell_type": "code",
      "metadata": {
        "id": "wmerqNRjMpte",
        "colab_type": "code",
        "outputId": "42d5276a-767e-4b08-a0bb-c4dedc8761ff",
        "colab": {
          "base_uri": "https://localhost:8080/",
          "height": 122
        }
      },
      "source": [
        "from google.colab import drive\n",
        "drive.mount('/content/drive')"
      ],
      "execution_count": 0,
      "outputs": [
        {
          "output_type": "stream",
          "text": [
            "Go to this URL in a browser: https://accounts.google.com/o/oauth2/auth?client_id=947318989803-6bn6qk8qdgf4n4g3pfee6491hc0brc4i.apps.googleusercontent.com&redirect_uri=urn%3aietf%3awg%3aoauth%3a2.0%3aoob&response_type=code&scope=email%20https%3a%2f%2fwww.googleapis.com%2fauth%2fdocs.test%20https%3a%2f%2fwww.googleapis.com%2fauth%2fdrive%20https%3a%2f%2fwww.googleapis.com%2fauth%2fdrive.photos.readonly%20https%3a%2f%2fwww.googleapis.com%2fauth%2fpeopleapi.readonly\n",
            "\n",
            "Enter your authorization code:\n",
            "··········\n",
            "Mounted at /content/drive\n"
          ],
          "name": "stdout"
        }
      ]
    },
    {
      "cell_type": "code",
      "metadata": {
        "id": "9PctYMD0NLRo",
        "colab_type": "code",
        "colab": {}
      },
      "source": [
        "# !unzip  '/content/drive/Shared drives/301FP/unzipped/five_second_files.zip' -d '/content/drive/Shared drives/301FP/unzipped/'"
      ],
      "execution_count": 0,
      "outputs": []
    },
    {
      "cell_type": "code",
      "metadata": {
        "id": "g25UDCuvN44E",
        "colab_type": "code",
        "colab": {}
      },
      "source": [
        "# !unzip  '/content/drive/Shared drives/301FP/LPF_Train_Files_7kHz.zip' -d '/content/drive/Shared drives/301FP/unzipped/train_newfilter_wav/'"
      ],
      "execution_count": 0,
      "outputs": []
    },
    {
      "cell_type": "code",
      "metadata": {
        "id": "TfqBgniQUrTW",
        "colab_type": "code",
        "colab": {}
      },
      "source": [
        "import os\n",
        "import glob\n",
        "import librosa\n",
        "import numpy as np\n",
        "import pandas as pd\n",
        "from tqdm import tqdm\n",
        "from PIL import Image\n",
        "import matplotlib.pyplot as plt\n",
        "import librosa.display\n",
        "import csv"
      ],
      "execution_count": 0,
      "outputs": []
    },
    {
      "cell_type": "code",
      "metadata": {
        "id": "jyBqcrDei43z",
        "colab_type": "code",
        "colab": {}
      },
      "source": [
        "# pip install ffmpeg-python"
      ],
      "execution_count": 0,
      "outputs": []
    },
    {
      "cell_type": "code",
      "metadata": {
        "id": "IZ8lLD4Vi8R5",
        "colab_type": "code",
        "colab": {}
      },
      "source": [
        "# pip install audioread"
      ],
      "execution_count": 0,
      "outputs": []
    },
    {
      "cell_type": "code",
      "metadata": {
        "id": "TI7YGhPmi_kW",
        "colab_type": "code",
        "colab": {}
      },
      "source": [
        "# import ffmpeg\n",
        "# import audioread\n",
        "# from audioread import audio_open"
      ],
      "execution_count": 0,
      "outputs": []
    },
    {
      "cell_type": "markdown",
      "metadata": {
        "id": "Li4K2PouJCZ3",
        "colab_type": "text"
      },
      "source": [
        "Create and save melspectrograms for CNN"
      ]
    },
    {
      "cell_type": "code",
      "metadata": {
        "id": "uHauRzI80phB",
        "colab_type": "code",
        "outputId": "c17998f0-36de-4b31-eb57-bc5511a32a2c",
        "colab": {
          "base_uri": "https://localhost:8080/",
          "height": 32
        }
      },
      "source": [
        "cd /content/drive/Shared drives/301FP/unzipped/five_second_files/five_second_train_files/"
      ],
      "execution_count": 0,
      "outputs": [
        {
          "output_type": "stream",
          "text": [
            "/content/drive/Shared drives/301FP/unzipped/five_second_files/five_second_train_files\n"
          ],
          "name": "stdout"
        }
      ]
    },
    {
      "cell_type": "code",
      "metadata": {
        "id": "2xMPQ_zKShcd",
        "colab_type": "code",
        "outputId": "fee0c0c7-d10b-4ca2-db65-dc2400d0e790",
        "colab": {
          "base_uri": "https://localhost:8080/",
          "height": 32
        }
      },
      "source": [
        "# creates the spectrogram images for the test files\n",
        "cmap = plt.get_cmap('inferno')\n",
        "for filename in os.listdir('/content/drive/Shared drives/301FP/unzipped/five_second_files/five_second_train_files/'):\n",
        "        y, sr = librosa.load(filename, mono=True, sr=None)\n",
        "        S = librosa.feature.melspectrogram(y=y, sr=sr)\n",
        "        librosa.display.specshow(librosa.power_to_db(S, ref=np.max), fmax=7000)\n",
        "        plt.axis('off');\n",
        "        plt.savefig('/content/drive/Shared drives/301FP/unzipped/five_second_files/five_second_train_img/' + filename[:-4] + '.png')\n",
        "        plt.clf()"
      ],
      "execution_count": 0,
      "outputs": [
        {
          "output_type": "display_data",
          "data": {
            "text/plain": [
              "<Figure size 432x288 with 0 Axes>"
            ]
          },
          "metadata": {
            "tags": []
          }
        }
      ]
    },
    {
      "cell_type": "code",
      "metadata": {
        "id": "ztZ1kTPFVw8O",
        "colab_type": "code",
        "outputId": "21d21fdc-dcf6-450e-876c-a7f0d4af5e2f",
        "colab": {
          "base_uri": "https://localhost:8080/",
          "height": 32
        }
      },
      "source": [
        "listOfFiles = os.listdir('/content/drive/Shared drives/301FP/unzipped/train_original/301-project.audio_train/')\n",
        "print(len(listOfFiles))"
      ],
      "execution_count": 0,
      "outputs": [
        {
          "output_type": "stream",
          "text": [
            "2757\n"
          ],
          "name": "stdout"
        }
      ]
    },
    {
      "cell_type": "code",
      "metadata": {
        "id": "NMOMgtZXbU9F",
        "colab_type": "code",
        "outputId": "134a811a-b26d-4dc7-f8a3-eaf3a349a730",
        "colab": {
          "base_uri": "https://localhost:8080/",
          "height": 32
        }
      },
      "source": [
        "cd /content/drive/Shared drives/301FP/unzipped/five_second_files/five_second_test_files/"
      ],
      "execution_count": 0,
      "outputs": [
        {
          "output_type": "stream",
          "text": [
            "/content/drive/Shared drives/301FP/unzipped/five_second_files/five_second_test_files\n"
          ],
          "name": "stdout"
        }
      ]
    },
    {
      "cell_type": "code",
      "metadata": {
        "id": "8VreJa6r0xTQ",
        "colab_type": "code",
        "outputId": "0048cf89-aa8f-47ee-a9a9-5b54f2901b05",
        "colab": {
          "base_uri": "https://localhost:8080/",
          "height": 32
        }
      },
      "source": [
        "# creates the spectrogram images for the test files\n",
        "cmap = plt.get_cmap('inferno')\n",
        "for filename in os.listdir('/content/drive/Shared drives/301FP/unzipped/five_second_files/five_second_test_files/'):\n",
        "        y, sr = librosa.load(filename, mono=True, sr=None)\n",
        "        S = librosa.feature.melspectrogram(y=y, sr=sr)\n",
        "        librosa.display.specshow(librosa.power_to_db(S, ref=np.max))\n",
        "        plt.axis('off');\n",
        "        plt.savefig('/content/drive/Shared drives/301FP/unzipped/five_second_files/five_second_test_img/' + filename[:-4] + '.png')\n",
        "        plt.clf()"
      ],
      "execution_count": 0,
      "outputs": [
        {
          "output_type": "display_data",
          "data": {
            "text/plain": [
              "<Figure size 432x288 with 0 Axes>"
            ]
          },
          "metadata": {
            "tags": []
          }
        }
      ]
    },
    {
      "cell_type": "code",
      "metadata": {
        "id": "qeurjqMvXQPX",
        "colab_type": "code",
        "colab": {}
      },
      "source": [
        "listOfFiles = os.listdir('/content/drive/Shared drives/301FP/unzipped/raw_shortened_files_max_energy/raw_train_shortened_energy_img/')\n",
        "print(len(listOfFiles))"
      ],
      "execution_count": 0,
      "outputs": []
    },
    {
      "cell_type": "markdown",
      "metadata": {
        "id": "qpWFRTqeJIyE",
        "colab_type": "text"
      },
      "source": [
        "Create Dataframe containing melfeatures for the training data correction model "
      ]
    },
    {
      "cell_type": "code",
      "metadata": {
        "id": "0Ysx799YO4GZ",
        "colab_type": "code",
        "colab": {}
      },
      "source": [
        "# filtered = '/content/drive/Shared drives/301FP/unzipped/LPF_test/LPF_Test_Files/'\n",
        "# images_filt = '/content/drive/Shared drives/301FP/unzipped/LPF_test/flattened_array' #filtered_images to rewrite multi-arrays rather than flattened arrays\n",
        "# files = os.listdir(filtered)\n",
        "# num_files = np.size(files)\n",
        "# print(num_files)"
      ],
      "execution_count": 0,
      "outputs": []
    },
    {
      "cell_type": "code",
      "metadata": {
        "id": "8eeJR6OkYp9L",
        "colab_type": "code",
        "colab": {}
      },
      "source": [
        "melfeatures = pd.DataFrame(columns=['filename','chroma_stft','rmse','spectral_centroid','spectral_bandwidth','rolloff','zero_crossing_rate', 'mfcc'])"
      ],
      "execution_count": 0,
      "outputs": []
    },
    {
      "cell_type": "code",
      "metadata": {
        "id": "RE8SXUPGoqjU",
        "colab_type": "code",
        "colab": {}
      },
      "source": [
        "!sudo apt-get install libav-tools"
      ],
      "execution_count": 0,
      "outputs": []
    },
    {
      "cell_type": "code",
      "metadata": {
        "id": "Nss8sF0TqtBr",
        "colab_type": "code",
        "outputId": "a5590331-a3b7-4349-928f-0aa02ddc72b5",
        "colab": {
          "base_uri": "https://localhost:8080/",
          "height": 34
        }
      },
      "source": [
        "cd /content/drive/Shared drives/301FP/unzipped/five_second_files/five_second_train_files"
      ],
      "execution_count": 0,
      "outputs": [
        {
          "output_type": "stream",
          "text": [
            "/content/drive/Shared drives/301FP/unzipped/five_second_files/five_second_train_files\n"
          ],
          "name": "stdout"
        }
      ]
    },
    {
      "cell_type": "code",
      "metadata": {
        "id": "vnRl4XUqrFch",
        "colab_type": "code",
        "outputId": "9a029ce5-fa42-49c4-fa4e-7b30e8f44118",
        "colab": {
          "base_uri": "https://localhost:8080/",
          "height": 1000
        }
      },
      "source": [
        "for filename in (os.listdir('/content/drive/Shared drives/301FP/unzipped/five_second_files/five_second_train_files/')):\n",
        "        y, sr = librosa.load(filename) # , mono=True, duration=15\n",
        "        chroma_stft = librosa.feature.chroma_stft(y=y, sr=sr)\n",
        "        spec_cent = librosa.feature.spectral_centroid(y=y, sr=sr)\n",
        "        spec_bw = librosa.feature.spectral_bandwidth(y=y, sr=sr)\n",
        "        rolloff = librosa.feature.spectral_rolloff(y=y, sr=sr)\n",
        "        zcr = librosa.feature.zero_crossing_rate(y)\n",
        "        mfcc = librosa.feature.mfcc(y=y, sr=sr)\n",
        "        mfcc2 = np.apply_along_axis(lambda x: np.mean(x), axis = 1, arr = mfcc)\n",
        "        rmse = librosa.feature.rmse(y)\n",
        "        data = [[filename, np.mean(chroma_stft), np.mean(rmse), np.mean(spec_cent), np.mean(spec_bw), np.mean(rolloff), np.mean(zcr), mfcc2]]\n",
        "        melfeatures = melfeatures.append(data)"
      ],
      "execution_count": 0,
      "outputs": [
        {
          "output_type": "stream",
          "text": [
            "/usr/local/lib/python3.6/dist-packages/librosa/core/pitch.py:145: UserWarning: Trying to estimate tuning from empty frequency set.\n",
            "  warnings.warn('Trying to estimate tuning from empty frequency set.')\n",
            "/usr/local/lib/python3.6/dist-packages/librosa/core/pitch.py:145: UserWarning: Trying to estimate tuning from empty frequency set.\n",
            "  warnings.warn('Trying to estimate tuning from empty frequency set.')\n",
            "/usr/local/lib/python3.6/dist-packages/librosa/core/pitch.py:145: UserWarning: Trying to estimate tuning from empty frequency set.\n",
            "  warnings.warn('Trying to estimate tuning from empty frequency set.')\n",
            "/usr/local/lib/python3.6/dist-packages/librosa/core/pitch.py:145: UserWarning: Trying to estimate tuning from empty frequency set.\n",
            "  warnings.warn('Trying to estimate tuning from empty frequency set.')\n",
            "/usr/local/lib/python3.6/dist-packages/librosa/core/pitch.py:145: UserWarning: Trying to estimate tuning from empty frequency set.\n",
            "  warnings.warn('Trying to estimate tuning from empty frequency set.')\n",
            "/usr/local/lib/python3.6/dist-packages/librosa/core/pitch.py:145: UserWarning: Trying to estimate tuning from empty frequency set.\n",
            "  warnings.warn('Trying to estimate tuning from empty frequency set.')\n",
            "/usr/local/lib/python3.6/dist-packages/librosa/core/pitch.py:145: UserWarning: Trying to estimate tuning from empty frequency set.\n",
            "  warnings.warn('Trying to estimate tuning from empty frequency set.')\n",
            "/usr/local/lib/python3.6/dist-packages/librosa/core/pitch.py:145: UserWarning: Trying to estimate tuning from empty frequency set.\n",
            "  warnings.warn('Trying to estimate tuning from empty frequency set.')\n",
            "/usr/local/lib/python3.6/dist-packages/librosa/core/pitch.py:145: UserWarning: Trying to estimate tuning from empty frequency set.\n",
            "  warnings.warn('Trying to estimate tuning from empty frequency set.')\n",
            "/usr/local/lib/python3.6/dist-packages/librosa/core/pitch.py:145: UserWarning: Trying to estimate tuning from empty frequency set.\n",
            "  warnings.warn('Trying to estimate tuning from empty frequency set.')\n",
            "/usr/local/lib/python3.6/dist-packages/librosa/core/pitch.py:145: UserWarning: Trying to estimate tuning from empty frequency set.\n",
            "  warnings.warn('Trying to estimate tuning from empty frequency set.')\n",
            "/usr/local/lib/python3.6/dist-packages/librosa/core/pitch.py:145: UserWarning: Trying to estimate tuning from empty frequency set.\n",
            "  warnings.warn('Trying to estimate tuning from empty frequency set.')\n",
            "/usr/local/lib/python3.6/dist-packages/librosa/core/pitch.py:145: UserWarning: Trying to estimate tuning from empty frequency set.\n",
            "  warnings.warn('Trying to estimate tuning from empty frequency set.')\n",
            "/usr/local/lib/python3.6/dist-packages/librosa/core/pitch.py:145: UserWarning: Trying to estimate tuning from empty frequency set.\n",
            "  warnings.warn('Trying to estimate tuning from empty frequency set.')\n",
            "/usr/local/lib/python3.6/dist-packages/librosa/core/pitch.py:145: UserWarning: Trying to estimate tuning from empty frequency set.\n",
            "  warnings.warn('Trying to estimate tuning from empty frequency set.')\n",
            "/usr/local/lib/python3.6/dist-packages/librosa/core/pitch.py:145: UserWarning: Trying to estimate tuning from empty frequency set.\n",
            "  warnings.warn('Trying to estimate tuning from empty frequency set.')\n",
            "/usr/local/lib/python3.6/dist-packages/librosa/core/pitch.py:145: UserWarning: Trying to estimate tuning from empty frequency set.\n",
            "  warnings.warn('Trying to estimate tuning from empty frequency set.')\n",
            "/usr/local/lib/python3.6/dist-packages/librosa/core/pitch.py:145: UserWarning: Trying to estimate tuning from empty frequency set.\n",
            "  warnings.warn('Trying to estimate tuning from empty frequency set.')\n",
            "/usr/local/lib/python3.6/dist-packages/librosa/core/pitch.py:145: UserWarning: Trying to estimate tuning from empty frequency set.\n",
            "  warnings.warn('Trying to estimate tuning from empty frequency set.')\n",
            "/usr/local/lib/python3.6/dist-packages/librosa/core/pitch.py:145: UserWarning: Trying to estimate tuning from empty frequency set.\n",
            "  warnings.warn('Trying to estimate tuning from empty frequency set.')\n",
            "/usr/local/lib/python3.6/dist-packages/librosa/core/pitch.py:145: UserWarning: Trying to estimate tuning from empty frequency set.\n",
            "  warnings.warn('Trying to estimate tuning from empty frequency set.')\n",
            "/usr/local/lib/python3.6/dist-packages/librosa/core/pitch.py:145: UserWarning: Trying to estimate tuning from empty frequency set.\n",
            "  warnings.warn('Trying to estimate tuning from empty frequency set.')\n",
            "/usr/local/lib/python3.6/dist-packages/librosa/core/pitch.py:145: UserWarning: Trying to estimate tuning from empty frequency set.\n",
            "  warnings.warn('Trying to estimate tuning from empty frequency set.')\n",
            "/usr/local/lib/python3.6/dist-packages/librosa/core/pitch.py:145: UserWarning: Trying to estimate tuning from empty frequency set.\n",
            "  warnings.warn('Trying to estimate tuning from empty frequency set.')\n",
            "/usr/local/lib/python3.6/dist-packages/librosa/core/pitch.py:145: UserWarning: Trying to estimate tuning from empty frequency set.\n",
            "  warnings.warn('Trying to estimate tuning from empty frequency set.')\n",
            "/usr/local/lib/python3.6/dist-packages/librosa/core/pitch.py:145: UserWarning: Trying to estimate tuning from empty frequency set.\n",
            "  warnings.warn('Trying to estimate tuning from empty frequency set.')\n",
            "/usr/local/lib/python3.6/dist-packages/librosa/core/pitch.py:145: UserWarning: Trying to estimate tuning from empty frequency set.\n",
            "  warnings.warn('Trying to estimate tuning from empty frequency set.')\n",
            "/usr/local/lib/python3.6/dist-packages/librosa/core/pitch.py:145: UserWarning: Trying to estimate tuning from empty frequency set.\n",
            "  warnings.warn('Trying to estimate tuning from empty frequency set.')\n",
            "/usr/local/lib/python3.6/dist-packages/librosa/core/pitch.py:145: UserWarning: Trying to estimate tuning from empty frequency set.\n",
            "  warnings.warn('Trying to estimate tuning from empty frequency set.')\n",
            "/usr/local/lib/python3.6/dist-packages/librosa/core/pitch.py:145: UserWarning: Trying to estimate tuning from empty frequency set.\n",
            "  warnings.warn('Trying to estimate tuning from empty frequency set.')\n",
            "/usr/local/lib/python3.6/dist-packages/librosa/core/pitch.py:145: UserWarning: Trying to estimate tuning from empty frequency set.\n",
            "  warnings.warn('Trying to estimate tuning from empty frequency set.')\n",
            "/usr/local/lib/python3.6/dist-packages/librosa/core/pitch.py:145: UserWarning: Trying to estimate tuning from empty frequency set.\n",
            "  warnings.warn('Trying to estimate tuning from empty frequency set.')\n",
            "/usr/local/lib/python3.6/dist-packages/librosa/core/pitch.py:145: UserWarning: Trying to estimate tuning from empty frequency set.\n",
            "  warnings.warn('Trying to estimate tuning from empty frequency set.')\n",
            "/usr/local/lib/python3.6/dist-packages/librosa/core/pitch.py:145: UserWarning: Trying to estimate tuning from empty frequency set.\n",
            "  warnings.warn('Trying to estimate tuning from empty frequency set.')\n",
            "/usr/local/lib/python3.6/dist-packages/librosa/core/pitch.py:145: UserWarning: Trying to estimate tuning from empty frequency set.\n",
            "  warnings.warn('Trying to estimate tuning from empty frequency set.')\n",
            "/usr/local/lib/python3.6/dist-packages/librosa/core/pitch.py:145: UserWarning: Trying to estimate tuning from empty frequency set.\n",
            "  warnings.warn('Trying to estimate tuning from empty frequency set.')\n",
            "/usr/local/lib/python3.6/dist-packages/librosa/core/pitch.py:145: UserWarning: Trying to estimate tuning from empty frequency set.\n",
            "  warnings.warn('Trying to estimate tuning from empty frequency set.')\n",
            "/usr/local/lib/python3.6/dist-packages/librosa/core/pitch.py:145: UserWarning: Trying to estimate tuning from empty frequency set.\n",
            "  warnings.warn('Trying to estimate tuning from empty frequency set.')\n",
            "/usr/local/lib/python3.6/dist-packages/librosa/core/pitch.py:145: UserWarning: Trying to estimate tuning from empty frequency set.\n",
            "  warnings.warn('Trying to estimate tuning from empty frequency set.')\n",
            "/usr/local/lib/python3.6/dist-packages/librosa/core/pitch.py:145: UserWarning: Trying to estimate tuning from empty frequency set.\n",
            "  warnings.warn('Trying to estimate tuning from empty frequency set.')\n",
            "/usr/local/lib/python3.6/dist-packages/librosa/core/pitch.py:145: UserWarning: Trying to estimate tuning from empty frequency set.\n",
            "  warnings.warn('Trying to estimate tuning from empty frequency set.')\n",
            "/usr/local/lib/python3.6/dist-packages/librosa/core/pitch.py:145: UserWarning: Trying to estimate tuning from empty frequency set.\n",
            "  warnings.warn('Trying to estimate tuning from empty frequency set.')\n",
            "/usr/local/lib/python3.6/dist-packages/librosa/core/pitch.py:145: UserWarning: Trying to estimate tuning from empty frequency set.\n",
            "  warnings.warn('Trying to estimate tuning from empty frequency set.')\n",
            "/usr/local/lib/python3.6/dist-packages/librosa/core/pitch.py:145: UserWarning: Trying to estimate tuning from empty frequency set.\n",
            "  warnings.warn('Trying to estimate tuning from empty frequency set.')\n",
            "/usr/local/lib/python3.6/dist-packages/librosa/core/pitch.py:145: UserWarning: Trying to estimate tuning from empty frequency set.\n",
            "  warnings.warn('Trying to estimate tuning from empty frequency set.')\n",
            "/usr/local/lib/python3.6/dist-packages/librosa/core/pitch.py:145: UserWarning: Trying to estimate tuning from empty frequency set.\n",
            "  warnings.warn('Trying to estimate tuning from empty frequency set.')\n",
            "/usr/local/lib/python3.6/dist-packages/librosa/core/pitch.py:145: UserWarning: Trying to estimate tuning from empty frequency set.\n",
            "  warnings.warn('Trying to estimate tuning from empty frequency set.')\n",
            "/usr/local/lib/python3.6/dist-packages/librosa/core/pitch.py:145: UserWarning: Trying to estimate tuning from empty frequency set.\n",
            "  warnings.warn('Trying to estimate tuning from empty frequency set.')\n",
            "/usr/local/lib/python3.6/dist-packages/librosa/core/pitch.py:145: UserWarning: Trying to estimate tuning from empty frequency set.\n",
            "  warnings.warn('Trying to estimate tuning from empty frequency set.')\n",
            "/usr/local/lib/python3.6/dist-packages/librosa/core/pitch.py:145: UserWarning: Trying to estimate tuning from empty frequency set.\n",
            "  warnings.warn('Trying to estimate tuning from empty frequency set.')\n",
            "/usr/local/lib/python3.6/dist-packages/librosa/core/pitch.py:145: UserWarning: Trying to estimate tuning from empty frequency set.\n",
            "  warnings.warn('Trying to estimate tuning from empty frequency set.')\n",
            "/usr/local/lib/python3.6/dist-packages/librosa/core/pitch.py:145: UserWarning: Trying to estimate tuning from empty frequency set.\n",
            "  warnings.warn('Trying to estimate tuning from empty frequency set.')\n",
            "/usr/local/lib/python3.6/dist-packages/librosa/core/pitch.py:145: UserWarning: Trying to estimate tuning from empty frequency set.\n",
            "  warnings.warn('Trying to estimate tuning from empty frequency set.')\n",
            "/usr/local/lib/python3.6/dist-packages/librosa/core/pitch.py:145: UserWarning: Trying to estimate tuning from empty frequency set.\n",
            "  warnings.warn('Trying to estimate tuning from empty frequency set.')\n",
            "/usr/local/lib/python3.6/dist-packages/librosa/core/pitch.py:145: UserWarning: Trying to estimate tuning from empty frequency set.\n",
            "  warnings.warn('Trying to estimate tuning from empty frequency set.')\n",
            "/usr/local/lib/python3.6/dist-packages/librosa/core/pitch.py:145: UserWarning: Trying to estimate tuning from empty frequency set.\n",
            "  warnings.warn('Trying to estimate tuning from empty frequency set.')\n",
            "/usr/local/lib/python3.6/dist-packages/librosa/core/pitch.py:145: UserWarning: Trying to estimate tuning from empty frequency set.\n",
            "  warnings.warn('Trying to estimate tuning from empty frequency set.')\n",
            "/usr/local/lib/python3.6/dist-packages/librosa/core/pitch.py:145: UserWarning: Trying to estimate tuning from empty frequency set.\n",
            "  warnings.warn('Trying to estimate tuning from empty frequency set.')\n",
            "/usr/local/lib/python3.6/dist-packages/librosa/core/pitch.py:145: UserWarning: Trying to estimate tuning from empty frequency set.\n",
            "  warnings.warn('Trying to estimate tuning from empty frequency set.')\n",
            "/usr/local/lib/python3.6/dist-packages/librosa/core/pitch.py:145: UserWarning: Trying to estimate tuning from empty frequency set.\n",
            "  warnings.warn('Trying to estimate tuning from empty frequency set.')\n",
            "/usr/local/lib/python3.6/dist-packages/librosa/core/pitch.py:145: UserWarning: Trying to estimate tuning from empty frequency set.\n",
            "  warnings.warn('Trying to estimate tuning from empty frequency set.')\n",
            "/usr/local/lib/python3.6/dist-packages/librosa/core/pitch.py:145: UserWarning: Trying to estimate tuning from empty frequency set.\n",
            "  warnings.warn('Trying to estimate tuning from empty frequency set.')\n",
            "/usr/local/lib/python3.6/dist-packages/librosa/core/pitch.py:145: UserWarning: Trying to estimate tuning from empty frequency set.\n",
            "  warnings.warn('Trying to estimate tuning from empty frequency set.')\n",
            "/usr/local/lib/python3.6/dist-packages/librosa/core/pitch.py:145: UserWarning: Trying to estimate tuning from empty frequency set.\n",
            "  warnings.warn('Trying to estimate tuning from empty frequency set.')\n",
            "/usr/local/lib/python3.6/dist-packages/librosa/core/pitch.py:145: UserWarning: Trying to estimate tuning from empty frequency set.\n",
            "  warnings.warn('Trying to estimate tuning from empty frequency set.')\n",
            "/usr/local/lib/python3.6/dist-packages/librosa/core/pitch.py:145: UserWarning: Trying to estimate tuning from empty frequency set.\n",
            "  warnings.warn('Trying to estimate tuning from empty frequency set.')\n",
            "/usr/local/lib/python3.6/dist-packages/librosa/core/pitch.py:145: UserWarning: Trying to estimate tuning from empty frequency set.\n",
            "  warnings.warn('Trying to estimate tuning from empty frequency set.')\n",
            "/usr/local/lib/python3.6/dist-packages/librosa/core/pitch.py:145: UserWarning: Trying to estimate tuning from empty frequency set.\n",
            "  warnings.warn('Trying to estimate tuning from empty frequency set.')\n",
            "/usr/local/lib/python3.6/dist-packages/librosa/core/pitch.py:145: UserWarning: Trying to estimate tuning from empty frequency set.\n",
            "  warnings.warn('Trying to estimate tuning from empty frequency set.')\n",
            "/usr/local/lib/python3.6/dist-packages/librosa/core/pitch.py:145: UserWarning: Trying to estimate tuning from empty frequency set.\n",
            "  warnings.warn('Trying to estimate tuning from empty frequency set.')\n",
            "/usr/local/lib/python3.6/dist-packages/librosa/core/pitch.py:145: UserWarning: Trying to estimate tuning from empty frequency set.\n",
            "  warnings.warn('Trying to estimate tuning from empty frequency set.')\n",
            "/usr/local/lib/python3.6/dist-packages/librosa/core/pitch.py:145: UserWarning: Trying to estimate tuning from empty frequency set.\n",
            "  warnings.warn('Trying to estimate tuning from empty frequency set.')\n",
            "/usr/local/lib/python3.6/dist-packages/librosa/core/pitch.py:145: UserWarning: Trying to estimate tuning from empty frequency set.\n",
            "  warnings.warn('Trying to estimate tuning from empty frequency set.')\n",
            "/usr/local/lib/python3.6/dist-packages/librosa/core/pitch.py:145: UserWarning: Trying to estimate tuning from empty frequency set.\n",
            "  warnings.warn('Trying to estimate tuning from empty frequency set.')\n",
            "/usr/local/lib/python3.6/dist-packages/librosa/core/pitch.py:145: UserWarning: Trying to estimate tuning from empty frequency set.\n",
            "  warnings.warn('Trying to estimate tuning from empty frequency set.')\n",
            "/usr/local/lib/python3.6/dist-packages/librosa/core/pitch.py:145: UserWarning: Trying to estimate tuning from empty frequency set.\n",
            "  warnings.warn('Trying to estimate tuning from empty frequency set.')\n",
            "/usr/local/lib/python3.6/dist-packages/librosa/core/pitch.py:145: UserWarning: Trying to estimate tuning from empty frequency set.\n",
            "  warnings.warn('Trying to estimate tuning from empty frequency set.')\n",
            "/usr/local/lib/python3.6/dist-packages/librosa/core/pitch.py:145: UserWarning: Trying to estimate tuning from empty frequency set.\n",
            "  warnings.warn('Trying to estimate tuning from empty frequency set.')\n",
            "/usr/local/lib/python3.6/dist-packages/librosa/core/pitch.py:145: UserWarning: Trying to estimate tuning from empty frequency set.\n",
            "  warnings.warn('Trying to estimate tuning from empty frequency set.')\n",
            "/usr/local/lib/python3.6/dist-packages/librosa/core/pitch.py:145: UserWarning: Trying to estimate tuning from empty frequency set.\n",
            "  warnings.warn('Trying to estimate tuning from empty frequency set.')\n",
            "/usr/local/lib/python3.6/dist-packages/librosa/core/pitch.py:145: UserWarning: Trying to estimate tuning from empty frequency set.\n",
            "  warnings.warn('Trying to estimate tuning from empty frequency set.')\n",
            "/usr/local/lib/python3.6/dist-packages/librosa/core/pitch.py:145: UserWarning: Trying to estimate tuning from empty frequency set.\n",
            "  warnings.warn('Trying to estimate tuning from empty frequency set.')\n",
            "/usr/local/lib/python3.6/dist-packages/librosa/core/pitch.py:145: UserWarning: Trying to estimate tuning from empty frequency set.\n",
            "  warnings.warn('Trying to estimate tuning from empty frequency set.')\n",
            "/usr/local/lib/python3.6/dist-packages/librosa/core/pitch.py:145: UserWarning: Trying to estimate tuning from empty frequency set.\n",
            "  warnings.warn('Trying to estimate tuning from empty frequency set.')\n",
            "/usr/local/lib/python3.6/dist-packages/librosa/core/pitch.py:145: UserWarning: Trying to estimate tuning from empty frequency set.\n",
            "  warnings.warn('Trying to estimate tuning from empty frequency set.')\n",
            "/usr/local/lib/python3.6/dist-packages/librosa/core/pitch.py:145: UserWarning: Trying to estimate tuning from empty frequency set.\n",
            "  warnings.warn('Trying to estimate tuning from empty frequency set.')\n",
            "/usr/local/lib/python3.6/dist-packages/librosa/core/pitch.py:145: UserWarning: Trying to estimate tuning from empty frequency set.\n",
            "  warnings.warn('Trying to estimate tuning from empty frequency set.')\n",
            "/usr/local/lib/python3.6/dist-packages/librosa/core/pitch.py:145: UserWarning: Trying to estimate tuning from empty frequency set.\n",
            "  warnings.warn('Trying to estimate tuning from empty frequency set.')\n",
            "/usr/local/lib/python3.6/dist-packages/librosa/core/pitch.py:145: UserWarning: Trying to estimate tuning from empty frequency set.\n",
            "  warnings.warn('Trying to estimate tuning from empty frequency set.')\n",
            "/usr/local/lib/python3.6/dist-packages/librosa/core/pitch.py:145: UserWarning: Trying to estimate tuning from empty frequency set.\n",
            "  warnings.warn('Trying to estimate tuning from empty frequency set.')\n",
            "/usr/local/lib/python3.6/dist-packages/librosa/core/pitch.py:145: UserWarning: Trying to estimate tuning from empty frequency set.\n",
            "  warnings.warn('Trying to estimate tuning from empty frequency set.')\n",
            "/usr/local/lib/python3.6/dist-packages/librosa/core/pitch.py:145: UserWarning: Trying to estimate tuning from empty frequency set.\n",
            "  warnings.warn('Trying to estimate tuning from empty frequency set.')\n",
            "/usr/local/lib/python3.6/dist-packages/librosa/core/pitch.py:145: UserWarning: Trying to estimate tuning from empty frequency set.\n",
            "  warnings.warn('Trying to estimate tuning from empty frequency set.')\n",
            "/usr/local/lib/python3.6/dist-packages/librosa/core/pitch.py:145: UserWarning: Trying to estimate tuning from empty frequency set.\n",
            "  warnings.warn('Trying to estimate tuning from empty frequency set.')\n",
            "/usr/local/lib/python3.6/dist-packages/librosa/core/pitch.py:145: UserWarning: Trying to estimate tuning from empty frequency set.\n",
            "  warnings.warn('Trying to estimate tuning from empty frequency set.')\n",
            "/usr/local/lib/python3.6/dist-packages/librosa/core/pitch.py:145: UserWarning: Trying to estimate tuning from empty frequency set.\n",
            "  warnings.warn('Trying to estimate tuning from empty frequency set.')\n",
            "/usr/local/lib/python3.6/dist-packages/librosa/core/pitch.py:145: UserWarning: Trying to estimate tuning from empty frequency set.\n",
            "  warnings.warn('Trying to estimate tuning from empty frequency set.')\n",
            "/usr/local/lib/python3.6/dist-packages/librosa/core/pitch.py:145: UserWarning: Trying to estimate tuning from empty frequency set.\n",
            "  warnings.warn('Trying to estimate tuning from empty frequency set.')\n",
            "/usr/local/lib/python3.6/dist-packages/librosa/core/pitch.py:145: UserWarning: Trying to estimate tuning from empty frequency set.\n",
            "  warnings.warn('Trying to estimate tuning from empty frequency set.')\n",
            "/usr/local/lib/python3.6/dist-packages/librosa/core/pitch.py:145: UserWarning: Trying to estimate tuning from empty frequency set.\n",
            "  warnings.warn('Trying to estimate tuning from empty frequency set.')\n",
            "/usr/local/lib/python3.6/dist-packages/librosa/core/pitch.py:145: UserWarning: Trying to estimate tuning from empty frequency set.\n",
            "  warnings.warn('Trying to estimate tuning from empty frequency set.')\n",
            "/usr/local/lib/python3.6/dist-packages/librosa/core/pitch.py:145: UserWarning: Trying to estimate tuning from empty frequency set.\n",
            "  warnings.warn('Trying to estimate tuning from empty frequency set.')\n",
            "/usr/local/lib/python3.6/dist-packages/librosa/core/pitch.py:145: UserWarning: Trying to estimate tuning from empty frequency set.\n",
            "  warnings.warn('Trying to estimate tuning from empty frequency set.')\n",
            "/usr/local/lib/python3.6/dist-packages/librosa/core/pitch.py:145: UserWarning: Trying to estimate tuning from empty frequency set.\n",
            "  warnings.warn('Trying to estimate tuning from empty frequency set.')\n",
            "/usr/local/lib/python3.6/dist-packages/librosa/core/pitch.py:145: UserWarning: Trying to estimate tuning from empty frequency set.\n",
            "  warnings.warn('Trying to estimate tuning from empty frequency set.')\n",
            "/usr/local/lib/python3.6/dist-packages/librosa/core/pitch.py:145: UserWarning: Trying to estimate tuning from empty frequency set.\n",
            "  warnings.warn('Trying to estimate tuning from empty frequency set.')\n",
            "/usr/local/lib/python3.6/dist-packages/librosa/core/pitch.py:145: UserWarning: Trying to estimate tuning from empty frequency set.\n",
            "  warnings.warn('Trying to estimate tuning from empty frequency set.')\n",
            "/usr/local/lib/python3.6/dist-packages/librosa/core/pitch.py:145: UserWarning: Trying to estimate tuning from empty frequency set.\n",
            "  warnings.warn('Trying to estimate tuning from empty frequency set.')\n",
            "/usr/local/lib/python3.6/dist-packages/librosa/core/pitch.py:145: UserWarning: Trying to estimate tuning from empty frequency set.\n",
            "  warnings.warn('Trying to estimate tuning from empty frequency set.')\n",
            "/usr/local/lib/python3.6/dist-packages/librosa/core/pitch.py:145: UserWarning: Trying to estimate tuning from empty frequency set.\n",
            "  warnings.warn('Trying to estimate tuning from empty frequency set.')\n",
            "/usr/local/lib/python3.6/dist-packages/librosa/core/pitch.py:145: UserWarning: Trying to estimate tuning from empty frequency set.\n",
            "  warnings.warn('Trying to estimate tuning from empty frequency set.')\n",
            "/usr/local/lib/python3.6/dist-packages/librosa/core/pitch.py:145: UserWarning: Trying to estimate tuning from empty frequency set.\n",
            "  warnings.warn('Trying to estimate tuning from empty frequency set.')\n",
            "/usr/local/lib/python3.6/dist-packages/librosa/core/pitch.py:145: UserWarning: Trying to estimate tuning from empty frequency set.\n",
            "  warnings.warn('Trying to estimate tuning from empty frequency set.')\n",
            "/usr/local/lib/python3.6/dist-packages/librosa/core/pitch.py:145: UserWarning: Trying to estimate tuning from empty frequency set.\n",
            "  warnings.warn('Trying to estimate tuning from empty frequency set.')\n",
            "/usr/local/lib/python3.6/dist-packages/librosa/core/pitch.py:145: UserWarning: Trying to estimate tuning from empty frequency set.\n",
            "  warnings.warn('Trying to estimate tuning from empty frequency set.')\n",
            "/usr/local/lib/python3.6/dist-packages/librosa/core/pitch.py:145: UserWarning: Trying to estimate tuning from empty frequency set.\n",
            "  warnings.warn('Trying to estimate tuning from empty frequency set.')\n",
            "/usr/local/lib/python3.6/dist-packages/librosa/core/pitch.py:145: UserWarning: Trying to estimate tuning from empty frequency set.\n",
            "  warnings.warn('Trying to estimate tuning from empty frequency set.')\n",
            "/usr/local/lib/python3.6/dist-packages/librosa/core/pitch.py:145: UserWarning: Trying to estimate tuning from empty frequency set.\n",
            "  warnings.warn('Trying to estimate tuning from empty frequency set.')\n",
            "/usr/local/lib/python3.6/dist-packages/librosa/core/pitch.py:145: UserWarning: Trying to estimate tuning from empty frequency set.\n",
            "  warnings.warn('Trying to estimate tuning from empty frequency set.')\n",
            "/usr/local/lib/python3.6/dist-packages/librosa/core/pitch.py:145: UserWarning: Trying to estimate tuning from empty frequency set.\n",
            "  warnings.warn('Trying to estimate tuning from empty frequency set.')\n",
            "/usr/local/lib/python3.6/dist-packages/librosa/core/pitch.py:145: UserWarning: Trying to estimate tuning from empty frequency set.\n",
            "  warnings.warn('Trying to estimate tuning from empty frequency set.')\n",
            "/usr/local/lib/python3.6/dist-packages/librosa/core/pitch.py:145: UserWarning: Trying to estimate tuning from empty frequency set.\n",
            "  warnings.warn('Trying to estimate tuning from empty frequency set.')\n",
            "/usr/local/lib/python3.6/dist-packages/librosa/core/pitch.py:145: UserWarning: Trying to estimate tuning from empty frequency set.\n",
            "  warnings.warn('Trying to estimate tuning from empty frequency set.')\n",
            "/usr/local/lib/python3.6/dist-packages/librosa/core/pitch.py:145: UserWarning: Trying to estimate tuning from empty frequency set.\n",
            "  warnings.warn('Trying to estimate tuning from empty frequency set.')\n",
            "/usr/local/lib/python3.6/dist-packages/librosa/core/pitch.py:145: UserWarning: Trying to estimate tuning from empty frequency set.\n",
            "  warnings.warn('Trying to estimate tuning from empty frequency set.')\n",
            "/usr/local/lib/python3.6/dist-packages/librosa/core/pitch.py:145: UserWarning: Trying to estimate tuning from empty frequency set.\n",
            "  warnings.warn('Trying to estimate tuning from empty frequency set.')\n",
            "/usr/local/lib/python3.6/dist-packages/librosa/core/pitch.py:145: UserWarning: Trying to estimate tuning from empty frequency set.\n",
            "  warnings.warn('Trying to estimate tuning from empty frequency set.')\n",
            "/usr/local/lib/python3.6/dist-packages/librosa/core/pitch.py:145: UserWarning: Trying to estimate tuning from empty frequency set.\n",
            "  warnings.warn('Trying to estimate tuning from empty frequency set.')\n",
            "/usr/local/lib/python3.6/dist-packages/librosa/core/pitch.py:145: UserWarning: Trying to estimate tuning from empty frequency set.\n",
            "  warnings.warn('Trying to estimate tuning from empty frequency set.')\n",
            "/usr/local/lib/python3.6/dist-packages/librosa/core/pitch.py:145: UserWarning: Trying to estimate tuning from empty frequency set.\n",
            "  warnings.warn('Trying to estimate tuning from empty frequency set.')\n",
            "/usr/local/lib/python3.6/dist-packages/librosa/core/pitch.py:145: UserWarning: Trying to estimate tuning from empty frequency set.\n",
            "  warnings.warn('Trying to estimate tuning from empty frequency set.')\n",
            "/usr/local/lib/python3.6/dist-packages/librosa/core/pitch.py:145: UserWarning: Trying to estimate tuning from empty frequency set.\n",
            "  warnings.warn('Trying to estimate tuning from empty frequency set.')\n",
            "/usr/local/lib/python3.6/dist-packages/librosa/core/pitch.py:145: UserWarning: Trying to estimate tuning from empty frequency set.\n",
            "  warnings.warn('Trying to estimate tuning from empty frequency set.')\n",
            "/usr/local/lib/python3.6/dist-packages/librosa/core/pitch.py:145: UserWarning: Trying to estimate tuning from empty frequency set.\n",
            "  warnings.warn('Trying to estimate tuning from empty frequency set.')\n",
            "/usr/local/lib/python3.6/dist-packages/librosa/core/pitch.py:145: UserWarning: Trying to estimate tuning from empty frequency set.\n",
            "  warnings.warn('Trying to estimate tuning from empty frequency set.')\n",
            "/usr/local/lib/python3.6/dist-packages/librosa/core/pitch.py:145: UserWarning: Trying to estimate tuning from empty frequency set.\n",
            "  warnings.warn('Trying to estimate tuning from empty frequency set.')\n",
            "/usr/local/lib/python3.6/dist-packages/librosa/core/pitch.py:145: UserWarning: Trying to estimate tuning from empty frequency set.\n",
            "  warnings.warn('Trying to estimate tuning from empty frequency set.')\n",
            "/usr/local/lib/python3.6/dist-packages/librosa/core/pitch.py:145: UserWarning: Trying to estimate tuning from empty frequency set.\n",
            "  warnings.warn('Trying to estimate tuning from empty frequency set.')\n",
            "/usr/local/lib/python3.6/dist-packages/librosa/core/pitch.py:145: UserWarning: Trying to estimate tuning from empty frequency set.\n",
            "  warnings.warn('Trying to estimate tuning from empty frequency set.')\n",
            "/usr/local/lib/python3.6/dist-packages/librosa/core/pitch.py:145: UserWarning: Trying to estimate tuning from empty frequency set.\n",
            "  warnings.warn('Trying to estimate tuning from empty frequency set.')\n",
            "/usr/local/lib/python3.6/dist-packages/librosa/core/pitch.py:145: UserWarning: Trying to estimate tuning from empty frequency set.\n",
            "  warnings.warn('Trying to estimate tuning from empty frequency set.')\n",
            "/usr/local/lib/python3.6/dist-packages/librosa/core/pitch.py:145: UserWarning: Trying to estimate tuning from empty frequency set.\n",
            "  warnings.warn('Trying to estimate tuning from empty frequency set.')\n",
            "/usr/local/lib/python3.6/dist-packages/librosa/core/pitch.py:145: UserWarning: Trying to estimate tuning from empty frequency set.\n",
            "  warnings.warn('Trying to estimate tuning from empty frequency set.')\n",
            "/usr/local/lib/python3.6/dist-packages/librosa/core/pitch.py:145: UserWarning: Trying to estimate tuning from empty frequency set.\n",
            "  warnings.warn('Trying to estimate tuning from empty frequency set.')\n",
            "/usr/local/lib/python3.6/dist-packages/librosa/core/pitch.py:145: UserWarning: Trying to estimate tuning from empty frequency set.\n",
            "  warnings.warn('Trying to estimate tuning from empty frequency set.')\n",
            "/usr/local/lib/python3.6/dist-packages/librosa/core/pitch.py:145: UserWarning: Trying to estimate tuning from empty frequency set.\n",
            "  warnings.warn('Trying to estimate tuning from empty frequency set.')\n"
          ],
          "name": "stderr"
        }
      ]
    },
    {
      "cell_type": "code",
      "metadata": {
        "id": "6yaKUMw55fyw",
        "colab_type": "code",
        "colab": {}
      },
      "source": [
        "melfeatures.head()"
      ],
      "execution_count": 0,
      "outputs": []
    },
    {
      "cell_type": "code",
      "metadata": {
        "id": "VaSVsdI947y3",
        "colab_type": "code",
        "colab": {}
      },
      "source": [
        "len(melfeatures)"
      ],
      "execution_count": 0,
      "outputs": []
    },
    {
      "cell_type": "code",
      "metadata": {
        "id": "eQ8VOXSTkoby",
        "colab_type": "code",
        "colab": {}
      },
      "source": [
        "melfeatures.to_csv('/content/drive/Shared drives/301FP/Data_Folder/melfeatures_test_raw.csv')"
      ],
      "execution_count": 0,
      "outputs": []
    },
    {
      "cell_type": "code",
      "metadata": {
        "id": "fr94gwntzzoh",
        "colab_type": "code",
        "colab": {}
      },
      "source": [
        " features = melfeatures.iloc[:, :7]"
      ],
      "execution_count": 0,
      "outputs": []
    },
    {
      "cell_type": "code",
      "metadata": {
        "id": "e1GPBN9MbNPN",
        "colab_type": "code",
        "colab": {}
      },
      "source": [
        "mfcc = melfeatures[7].apply(pd.Series)"
      ],
      "execution_count": 0,
      "outputs": []
    },
    {
      "cell_type": "code",
      "metadata": {
        "id": "KEFux3H8mA7J",
        "colab_type": "code",
        "colab": {}
      },
      "source": [
        "mfcc.head()"
      ],
      "execution_count": 0,
      "outputs": []
    },
    {
      "cell_type": "code",
      "metadata": {
        "id": "1e8xGqRuz_AA",
        "colab_type": "code",
        "colab": {}
      },
      "source": [
        "total = pd.concat([features, mfcc], axis = 1)"
      ],
      "execution_count": 0,
      "outputs": []
    },
    {
      "cell_type": "code",
      "metadata": {
        "id": "yxvVFtgx0-xJ",
        "colab_type": "code",
        "colab": {}
      },
      "source": [
        "total.head()"
      ],
      "execution_count": 0,
      "outputs": []
    },
    {
      "cell_type": "code",
      "metadata": {
        "id": "kBo5LM041Qmq",
        "colab_type": "code",
        "colab": {}
      },
      "source": [
        "columns=['filename','chroma_stft','rmse','spectral_centroid','spectral_bandwidth','rolloff','zero_crossing_rate', 'mfcc1', 'mfcc2', 'mfcc3', 'mfcc4', 'mfcc5', 'mfcc6', 'mfcc7', 'mfcc8', 'mfcc9', 'mfcc10', 'mfcc11', 'mfcc12', 'mfcc13', 'mfcc14', 'mfcc15', 'mfcc16', 'mfcc17', 'mfcc18', 'mfcc19', 'mfcc20']\n"
      ],
      "execution_count": 0,
      "outputs": []
    },
    {
      "cell_type": "code",
      "metadata": {
        "id": "fy-BDK2L7W8i",
        "colab_type": "code",
        "colab": {}
      },
      "source": [
        "total.columns = columns"
      ],
      "execution_count": 0,
      "outputs": []
    },
    {
      "cell_type": "code",
      "metadata": {
        "id": "ATOR0sQ87ZUY",
        "colab_type": "code",
        "colab": {}
      },
      "source": [
        "total.head()"
      ],
      "execution_count": 0,
      "outputs": []
    },
    {
      "cell_type": "code",
      "metadata": {
        "id": "2cqWH5966kIb",
        "colab_type": "code",
        "colab": {}
      },
      "source": [
        "len(total)"
      ],
      "execution_count": 0,
      "outputs": []
    },
    {
      "cell_type": "code",
      "metadata": {
        "id": "JZU0DWho7eAG",
        "colab_type": "code",
        "colab": {}
      },
      "source": [
        "total.to_csv('/content/drive/Shared drives/301FP/Data_Folder/melfeatures_testdata_raw.csv')"
      ],
      "execution_count": 0,
      "outputs": []
    },
    {
      "cell_type": "code",
      "metadata": {
        "id": "8AgzO5IX6x-M",
        "colab_type": "code",
        "colab": {}
      },
      "source": [
        "ls"
      ],
      "execution_count": 0,
      "outputs": []
    },
    {
      "cell_type": "code",
      "metadata": {
        "id": "jM1Czd789k7s",
        "colab_type": "code",
        "colab": {}
      },
      "source": [
        "cd "
      ],
      "execution_count": 0,
      "outputs": []
    },
    {
      "cell_type": "code",
      "metadata": {
        "id": "1jXtBNj565ja",
        "colab_type": "code",
        "colab": {}
      },
      "source": [
        "cd /content/drive/Shared drives/301FP/unzipped/LPF_train/filtered_files"
      ],
      "execution_count": 0,
      "outputs": []
    },
    {
      "cell_type": "code",
      "metadata": {
        "id": "4kBcIDds7gUN",
        "colab_type": "code",
        "colab": {}
      },
      "source": [
        "melfeaturestrain = pd.DataFrame(columns=['filename','chroma_stft','rmse','spectral_centroid','spectral_bandwidth','rolloff','zero_crossing_rate', 'mfcc'])"
      ],
      "execution_count": 0,
      "outputs": []
    },
    {
      "cell_type": "code",
      "metadata": {
        "id": "MxCwXZ4e8fIy",
        "colab_type": "code",
        "colab": {}
      },
      "source": [
        "for filename in (os.listdir('/content/drive/Shared drives/301FP/unzipped/train_img_original2')):\n",
        "        y, sr = librosa.load(filename, mono=True, duration=10)\n",
        "        chroma_stft = librosa.feature.chroma_stft(y=y, sr=sr)\n",
        "        spec_cent = librosa.feature.spectral_centroid(y=y, sr=sr)\n",
        "        spec_bw = librosa.feature.spectral_bandwidth(y=y, sr=sr)\n",
        "        rolloff = librosa.feature.spectral_rolloff(y=y, sr=sr)\n",
        "        zcr = librosa.feature.zero_crossing_rate(y)\n",
        "        mfcc = librosa.feature.mfcc(y=y, sr=sr)\n",
        "        mfcc2 = np.apply_along_axis(lambda x: np.mean(x), axis = 1, arr = mfcc)\n",
        "        rmse = librosa.feature.rmse(y)\n",
        "        data = [[filename, np.mean(chroma_stft), np.mean(rmse), np.mean(spec_cent), np.mean(spec_bw), np.mean(rolloff), np.mean(zcr), mfcc2]]\n",
        "        melfeaturestrain = melfeaturestrain.append(data)"
      ],
      "execution_count": 0,
      "outputs": []
    },
    {
      "cell_type": "code",
      "metadata": {
        "id": "CjBt6grK8qRl",
        "colab_type": "code",
        "colab": {}
      },
      "source": [
        "melfeaturestrain.head()"
      ],
      "execution_count": 0,
      "outputs": []
    },
    {
      "cell_type": "code",
      "metadata": {
        "id": "-SRYBb96NhZ2",
        "colab_type": "code",
        "colab": {}
      },
      "source": [
        "len(melfeaturestrain)"
      ],
      "execution_count": 0,
      "outputs": []
    },
    {
      "cell_type": "code",
      "metadata": {
        "id": "ckwNanztBAxA",
        "colab_type": "code",
        "colab": {}
      },
      "source": [
        "train_features = melfeaturestrain.iloc[:, :7]"
      ],
      "execution_count": 0,
      "outputs": []
    },
    {
      "cell_type": "code",
      "metadata": {
        "id": "4tLEaiY_BrlQ",
        "colab_type": "code",
        "colab": {}
      },
      "source": [
        "mfcctrain = melfeaturestrain[7].apply(pd.Series)"
      ],
      "execution_count": 0,
      "outputs": []
    },
    {
      "cell_type": "code",
      "metadata": {
        "id": "VON-YOX8B3m-",
        "colab_type": "code",
        "colab": {}
      },
      "source": [
        "mfcctrain.head()"
      ],
      "execution_count": 0,
      "outputs": []
    },
    {
      "cell_type": "code",
      "metadata": {
        "id": "zIChjtCPB_ov",
        "colab_type": "code",
        "colab": {}
      },
      "source": [
        "totaltrain = pd.concat([train_features, mfcctrain], axis = 1)"
      ],
      "execution_count": 0,
      "outputs": []
    },
    {
      "cell_type": "code",
      "metadata": {
        "id": "mF9UK0ODCIfY",
        "colab_type": "code",
        "colab": {}
      },
      "source": [
        "totaltrain.head()"
      ],
      "execution_count": 0,
      "outputs": []
    },
    {
      "cell_type": "code",
      "metadata": {
        "id": "n2BpR4BUNoFc",
        "colab_type": "code",
        "colab": {}
      },
      "source": [
        "len(totaltrain)"
      ],
      "execution_count": 0,
      "outputs": []
    },
    {
      "cell_type": "code",
      "metadata": {
        "id": "AHyqjFsyCS5U",
        "colab_type": "code",
        "colab": {}
      },
      "source": [
        "columns=['filename','chroma_stft','rmse','spectral_centroid','spectral_bandwidth','rolloff','zero_crossing_rate', 'mfcc1', 'mfcc2', 'mfcc3', 'mfcc4', 'mfcc5', 'mfcc6', 'mfcc7', 'mfcc8', 'mfcc9', 'mfcc10', 'mfcc11', 'mfcc12', 'mfcc13', 'mfcc14', 'mfcc15', 'mfcc16', 'mfcc17', 'mfcc18', 'mfcc19', 'mfcc20']\n"
      ],
      "execution_count": 0,
      "outputs": []
    },
    {
      "cell_type": "code",
      "metadata": {
        "id": "QCbEQ-YKCZWi",
        "colab_type": "code",
        "colab": {}
      },
      "source": [
        "totaltrain.columns = columns"
      ],
      "execution_count": 0,
      "outputs": []
    },
    {
      "cell_type": "code",
      "metadata": {
        "id": "ATgvnxotCkiU",
        "colab_type": "code",
        "colab": {}
      },
      "source": [
        "totaltrain.to_csv('/content/drive/Shared drives/301FP/Data_Folder/melfeatures_traindata_raw.csv')"
      ],
      "execution_count": 0,
      "outputs": []
    },
    {
      "cell_type": "code",
      "metadata": {
        "id": "LN2sKgyCCosO",
        "colab_type": "code",
        "colab": {}
      },
      "source": [
        "totaltrain.head()"
      ],
      "execution_count": 0,
      "outputs": []
    },
    {
      "cell_type": "code",
      "metadata": {
        "id": "JjfS1wVNNrm2",
        "colab_type": "code",
        "colab": {}
      },
      "source": [
        "len(totaltrain)"
      ],
      "execution_count": 0,
      "outputs": []
    },
    {
      "cell_type": "code",
      "metadata": {
        "id": "CoGsuopfNssM",
        "colab_type": "code",
        "colab": {}
      },
      "source": [
        ""
      ],
      "execution_count": 0,
      "outputs": []
    }
  ]
}