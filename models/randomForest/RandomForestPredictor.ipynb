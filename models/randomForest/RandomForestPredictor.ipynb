{
  "nbformat": 4,
  "nbformat_minor": 0,
  "metadata": {
    "colab": {
      "name": "randomforest20.ipynb",
      "provenance": [],
      "collapsed_sections": []
    },
    "kernelspec": {
      "name": "python3",
      "display_name": "Python 3"
    }
  },
  "cells": [
    {
      "cell_type": "markdown",
      "metadata": {
        "id": "iFLkm9KgI0xZ",
        "colab_type": "text"
      },
      "source": [
        "The following procedure is used for training a random forest model to later predict the labels for the test data set. \n",
        "\n",
        "- The 20 melspectrogram coefficients were previously generated in preprocessing.ipynb from the training data. \n",
        "\n",
        "- We trained a random forest classifier on these 20 melspectrogram coefficients. \n",
        "\n",
        "- We then predicted the test set labels from the trained random forest model. "
      ]
    },
    {
      "cell_type": "code",
      "metadata": {
        "id": "dW3nqbcGDTtL",
        "colab_type": "code",
        "outputId": "ef1b3691-1453-4312-9ac5-4b28814bfb75",
        "colab": {
          "base_uri": "https://localhost:8080/",
          "height": 120
        }
      },
      "source": [
        "from google.colab import drive\n",
        "drive.mount('/content/drive')\n",
        "\n"
      ],
      "execution_count": 0,
      "outputs": [
        {
          "output_type": "stream",
          "text": [
            "Go to this URL in a browser: https://accounts.google.com/o/oauth2/auth?client_id=947318989803-6bn6qk8qdgf4n4g3pfee6491hc0brc4i.apps.googleusercontent.com&redirect_uri=urn%3aietf%3awg%3aoauth%3a2.0%3aoob&response_type=code&scope=email%20https%3a%2f%2fwww.googleapis.com%2fauth%2fdocs.test%20https%3a%2f%2fwww.googleapis.com%2fauth%2fdrive%20https%3a%2f%2fwww.googleapis.com%2fauth%2fdrive.photos.readonly%20https%3a%2f%2fwww.googleapis.com%2fauth%2fpeopleapi.readonly\n",
            "\n",
            "Enter your authorization code:\n",
            "··········\n",
            "Mounted at /content/drive\n"
          ],
          "name": "stdout"
        }
      ]
    },
    {
      "cell_type": "code",
      "metadata": {
        "id": "TiwB71ZKCmm8",
        "colab_type": "code",
        "outputId": "e07b296d-92e0-49b7-cb61-855c866ba214",
        "colab": {
          "base_uri": "https://localhost:8080/"
        }
      },
      "source": [
        "import pandas as pd\n",
        "import numpy as np\n",
        "\n",
        "mel_features = pd.read_csv('/content/drive/Shared drives/301FP/Data_Folder/mel_features.csv')"
      ],
      "execution_count": 0,
      "outputs": [
        {
          "output_type": "error",
          "ename": "FileNotFoundError",
          "evalue": "ignored",
          "traceback": [
            "\u001b[0;31m---------------------------------------------------------------------------\u001b[0m",
            "\u001b[0;31mFileNotFoundError\u001b[0m                         Traceback (most recent call last)",
            "\u001b[0;32m<ipython-input-1-5e7055c445c9>\u001b[0m in \u001b[0;36m<module>\u001b[0;34m()\u001b[0m\n\u001b[1;32m      2\u001b[0m \u001b[0;32mimport\u001b[0m \u001b[0mnumpy\u001b[0m \u001b[0;32mas\u001b[0m \u001b[0mnp\u001b[0m\u001b[0;34m\u001b[0m\u001b[0;34m\u001b[0m\u001b[0m\n\u001b[1;32m      3\u001b[0m \u001b[0;34m\u001b[0m\u001b[0m\n\u001b[0;32m----> 4\u001b[0;31m \u001b[0mmel_features\u001b[0m \u001b[0;34m=\u001b[0m \u001b[0mpd\u001b[0m\u001b[0;34m.\u001b[0m\u001b[0mread_csv\u001b[0m\u001b[0;34m(\u001b[0m\u001b[0;34m'/content/drive/Shared drives/301FP/Data_Folder/mel_features.csv'\u001b[0m\u001b[0;34m)\u001b[0m\u001b[0;34m\u001b[0m\u001b[0;34m\u001b[0m\u001b[0m\n\u001b[0m",
            "\u001b[0;32m/usr/local/lib/python3.6/dist-packages/pandas/io/parsers.py\u001b[0m in \u001b[0;36mparser_f\u001b[0;34m(filepath_or_buffer, sep, delimiter, header, names, index_col, usecols, squeeze, prefix, mangle_dupe_cols, dtype, engine, converters, true_values, false_values, skipinitialspace, skiprows, skipfooter, nrows, na_values, keep_default_na, na_filter, verbose, skip_blank_lines, parse_dates, infer_datetime_format, keep_date_col, date_parser, dayfirst, cache_dates, iterator, chunksize, compression, thousands, decimal, lineterminator, quotechar, quoting, doublequote, escapechar, comment, encoding, dialect, error_bad_lines, warn_bad_lines, delim_whitespace, low_memory, memory_map, float_precision)\u001b[0m\n\u001b[1;32m    683\u001b[0m         )\n\u001b[1;32m    684\u001b[0m \u001b[0;34m\u001b[0m\u001b[0m\n\u001b[0;32m--> 685\u001b[0;31m         \u001b[0;32mreturn\u001b[0m \u001b[0m_read\u001b[0m\u001b[0;34m(\u001b[0m\u001b[0mfilepath_or_buffer\u001b[0m\u001b[0;34m,\u001b[0m \u001b[0mkwds\u001b[0m\u001b[0;34m)\u001b[0m\u001b[0;34m\u001b[0m\u001b[0;34m\u001b[0m\u001b[0m\n\u001b[0m\u001b[1;32m    686\u001b[0m \u001b[0;34m\u001b[0m\u001b[0m\n\u001b[1;32m    687\u001b[0m     \u001b[0mparser_f\u001b[0m\u001b[0;34m.\u001b[0m\u001b[0m__name__\u001b[0m \u001b[0;34m=\u001b[0m \u001b[0mname\u001b[0m\u001b[0;34m\u001b[0m\u001b[0;34m\u001b[0m\u001b[0m\n",
            "\u001b[0;32m/usr/local/lib/python3.6/dist-packages/pandas/io/parsers.py\u001b[0m in \u001b[0;36m_read\u001b[0;34m(filepath_or_buffer, kwds)\u001b[0m\n\u001b[1;32m    455\u001b[0m \u001b[0;34m\u001b[0m\u001b[0m\n\u001b[1;32m    456\u001b[0m     \u001b[0;31m# Create the parser.\u001b[0m\u001b[0;34m\u001b[0m\u001b[0;34m\u001b[0m\u001b[0;34m\u001b[0m\u001b[0m\n\u001b[0;32m--> 457\u001b[0;31m     \u001b[0mparser\u001b[0m \u001b[0;34m=\u001b[0m \u001b[0mTextFileReader\u001b[0m\u001b[0;34m(\u001b[0m\u001b[0mfp_or_buf\u001b[0m\u001b[0;34m,\u001b[0m \u001b[0;34m**\u001b[0m\u001b[0mkwds\u001b[0m\u001b[0;34m)\u001b[0m\u001b[0;34m\u001b[0m\u001b[0;34m\u001b[0m\u001b[0m\n\u001b[0m\u001b[1;32m    458\u001b[0m \u001b[0;34m\u001b[0m\u001b[0m\n\u001b[1;32m    459\u001b[0m     \u001b[0;32mif\u001b[0m \u001b[0mchunksize\u001b[0m \u001b[0;32mor\u001b[0m \u001b[0miterator\u001b[0m\u001b[0;34m:\u001b[0m\u001b[0;34m\u001b[0m\u001b[0;34m\u001b[0m\u001b[0m\n",
            "\u001b[0;32m/usr/local/lib/python3.6/dist-packages/pandas/io/parsers.py\u001b[0m in \u001b[0;36m__init__\u001b[0;34m(self, f, engine, **kwds)\u001b[0m\n\u001b[1;32m    893\u001b[0m             \u001b[0mself\u001b[0m\u001b[0;34m.\u001b[0m\u001b[0moptions\u001b[0m\u001b[0;34m[\u001b[0m\u001b[0;34m\"has_index_names\"\u001b[0m\u001b[0;34m]\u001b[0m \u001b[0;34m=\u001b[0m \u001b[0mkwds\u001b[0m\u001b[0;34m[\u001b[0m\u001b[0;34m\"has_index_names\"\u001b[0m\u001b[0;34m]\u001b[0m\u001b[0;34m\u001b[0m\u001b[0;34m\u001b[0m\u001b[0m\n\u001b[1;32m    894\u001b[0m \u001b[0;34m\u001b[0m\u001b[0m\n\u001b[0;32m--> 895\u001b[0;31m         \u001b[0mself\u001b[0m\u001b[0;34m.\u001b[0m\u001b[0m_make_engine\u001b[0m\u001b[0;34m(\u001b[0m\u001b[0mself\u001b[0m\u001b[0;34m.\u001b[0m\u001b[0mengine\u001b[0m\u001b[0;34m)\u001b[0m\u001b[0;34m\u001b[0m\u001b[0;34m\u001b[0m\u001b[0m\n\u001b[0m\u001b[1;32m    896\u001b[0m \u001b[0;34m\u001b[0m\u001b[0m\n\u001b[1;32m    897\u001b[0m     \u001b[0;32mdef\u001b[0m \u001b[0mclose\u001b[0m\u001b[0;34m(\u001b[0m\u001b[0mself\u001b[0m\u001b[0;34m)\u001b[0m\u001b[0;34m:\u001b[0m\u001b[0;34m\u001b[0m\u001b[0;34m\u001b[0m\u001b[0m\n",
            "\u001b[0;32m/usr/local/lib/python3.6/dist-packages/pandas/io/parsers.py\u001b[0m in \u001b[0;36m_make_engine\u001b[0;34m(self, engine)\u001b[0m\n\u001b[1;32m   1133\u001b[0m     \u001b[0;32mdef\u001b[0m \u001b[0m_make_engine\u001b[0m\u001b[0;34m(\u001b[0m\u001b[0mself\u001b[0m\u001b[0;34m,\u001b[0m \u001b[0mengine\u001b[0m\u001b[0;34m=\u001b[0m\u001b[0;34m\"c\"\u001b[0m\u001b[0;34m)\u001b[0m\u001b[0;34m:\u001b[0m\u001b[0;34m\u001b[0m\u001b[0;34m\u001b[0m\u001b[0m\n\u001b[1;32m   1134\u001b[0m         \u001b[0;32mif\u001b[0m \u001b[0mengine\u001b[0m \u001b[0;34m==\u001b[0m \u001b[0;34m\"c\"\u001b[0m\u001b[0;34m:\u001b[0m\u001b[0;34m\u001b[0m\u001b[0;34m\u001b[0m\u001b[0m\n\u001b[0;32m-> 1135\u001b[0;31m             \u001b[0mself\u001b[0m\u001b[0;34m.\u001b[0m\u001b[0m_engine\u001b[0m \u001b[0;34m=\u001b[0m \u001b[0mCParserWrapper\u001b[0m\u001b[0;34m(\u001b[0m\u001b[0mself\u001b[0m\u001b[0;34m.\u001b[0m\u001b[0mf\u001b[0m\u001b[0;34m,\u001b[0m \u001b[0;34m**\u001b[0m\u001b[0mself\u001b[0m\u001b[0;34m.\u001b[0m\u001b[0moptions\u001b[0m\u001b[0;34m)\u001b[0m\u001b[0;34m\u001b[0m\u001b[0;34m\u001b[0m\u001b[0m\n\u001b[0m\u001b[1;32m   1136\u001b[0m         \u001b[0;32melse\u001b[0m\u001b[0;34m:\u001b[0m\u001b[0;34m\u001b[0m\u001b[0;34m\u001b[0m\u001b[0m\n\u001b[1;32m   1137\u001b[0m             \u001b[0;32mif\u001b[0m \u001b[0mengine\u001b[0m \u001b[0;34m==\u001b[0m \u001b[0;34m\"python\"\u001b[0m\u001b[0;34m:\u001b[0m\u001b[0;34m\u001b[0m\u001b[0;34m\u001b[0m\u001b[0m\n",
            "\u001b[0;32m/usr/local/lib/python3.6/dist-packages/pandas/io/parsers.py\u001b[0m in \u001b[0;36m__init__\u001b[0;34m(self, src, **kwds)\u001b[0m\n\u001b[1;32m   1915\u001b[0m         \u001b[0mkwds\u001b[0m\u001b[0;34m[\u001b[0m\u001b[0;34m\"usecols\"\u001b[0m\u001b[0;34m]\u001b[0m \u001b[0;34m=\u001b[0m \u001b[0mself\u001b[0m\u001b[0;34m.\u001b[0m\u001b[0musecols\u001b[0m\u001b[0;34m\u001b[0m\u001b[0;34m\u001b[0m\u001b[0m\n\u001b[1;32m   1916\u001b[0m \u001b[0;34m\u001b[0m\u001b[0m\n\u001b[0;32m-> 1917\u001b[0;31m         \u001b[0mself\u001b[0m\u001b[0;34m.\u001b[0m\u001b[0m_reader\u001b[0m \u001b[0;34m=\u001b[0m \u001b[0mparsers\u001b[0m\u001b[0;34m.\u001b[0m\u001b[0mTextReader\u001b[0m\u001b[0;34m(\u001b[0m\u001b[0msrc\u001b[0m\u001b[0;34m,\u001b[0m \u001b[0;34m**\u001b[0m\u001b[0mkwds\u001b[0m\u001b[0;34m)\u001b[0m\u001b[0;34m\u001b[0m\u001b[0;34m\u001b[0m\u001b[0m\n\u001b[0m\u001b[1;32m   1918\u001b[0m         \u001b[0mself\u001b[0m\u001b[0;34m.\u001b[0m\u001b[0munnamed_cols\u001b[0m \u001b[0;34m=\u001b[0m \u001b[0mself\u001b[0m\u001b[0;34m.\u001b[0m\u001b[0m_reader\u001b[0m\u001b[0;34m.\u001b[0m\u001b[0munnamed_cols\u001b[0m\u001b[0;34m\u001b[0m\u001b[0;34m\u001b[0m\u001b[0m\n\u001b[1;32m   1919\u001b[0m \u001b[0;34m\u001b[0m\u001b[0m\n",
            "\u001b[0;32mpandas/_libs/parsers.pyx\u001b[0m in \u001b[0;36mpandas._libs.parsers.TextReader.__cinit__\u001b[0;34m()\u001b[0m\n",
            "\u001b[0;32mpandas/_libs/parsers.pyx\u001b[0m in \u001b[0;36mpandas._libs.parsers.TextReader._setup_parser_source\u001b[0;34m()\u001b[0m\n",
            "\u001b[0;31mFileNotFoundError\u001b[0m: [Errno 2] File b'/content/drive/Shared drives/301FP/Data_Folder/mel_features.csv' does not exist: b'/content/drive/Shared drives/301FP/Data_Folder/mel_features.csv'"
          ]
        }
      ]
    },
    {
      "cell_type": "code",
      "metadata": {
        "id": "4R5mxS71Dnci",
        "colab_type": "code",
        "outputId": "de428513-5cf5-4f9d-e9c7-adf4f65409aa",
        "colab": {
          "base_uri": "https://localhost:8080/",
          "height": 238
        }
      },
      "source": [
        "mel_features.head()"
      ],
      "execution_count": 0,
      "outputs": [
        {
          "output_type": "execute_result",
          "data": {
            "text/html": [
              "<div>\n",
              "<style scoped>\n",
              "    .dataframe tbody tr th:only-of-type {\n",
              "        vertical-align: middle;\n",
              "    }\n",
              "\n",
              "    .dataframe tbody tr th {\n",
              "        vertical-align: top;\n",
              "    }\n",
              "\n",
              "    .dataframe thead th {\n",
              "        text-align: right;\n",
              "    }\n",
              "</style>\n",
              "<table border=\"1\" class=\"dataframe\">\n",
              "  <thead>\n",
              "    <tr style=\"text-align: right;\">\n",
              "      <th></th>\n",
              "      <th>Unnamed: 0</th>\n",
              "      <th>fname</th>\n",
              "      <th>label</th>\n",
              "      <th>manually_verified</th>\n",
              "      <th>chroma_stft</th>\n",
              "      <th>rmse</th>\n",
              "      <th>spectral_centroid</th>\n",
              "      <th>spectral_bandwidth</th>\n",
              "      <th>rolloff</th>\n",
              "      <th>zero_crossing_rate</th>\n",
              "      <th>mfcc1</th>\n",
              "      <th>mfcc2</th>\n",
              "      <th>mfcc3</th>\n",
              "      <th>mfcc4</th>\n",
              "      <th>mfcc5</th>\n",
              "      <th>mfcc6</th>\n",
              "      <th>mfcc7</th>\n",
              "      <th>mfcc8</th>\n",
              "      <th>mfcc9</th>\n",
              "      <th>mfcc10</th>\n",
              "      <th>mfcc11</th>\n",
              "      <th>mfcc12</th>\n",
              "      <th>mfcc13</th>\n",
              "      <th>mfcc14</th>\n",
              "      <th>mfcc15</th>\n",
              "      <th>mfcc16</th>\n",
              "      <th>mfcc17</th>\n",
              "      <th>mfcc18</th>\n",
              "      <th>mfcc19</th>\n",
              "      <th>mfcc20</th>\n",
              "    </tr>\n",
              "  </thead>\n",
              "  <tbody>\n",
              "    <tr>\n",
              "      <th>0</th>\n",
              "      <td>0</td>\n",
              "      <td>00044347.wav</td>\n",
              "      <td>Hi-hat</td>\n",
              "      <td>0</td>\n",
              "      <td>0.689457</td>\n",
              "      <td>0.964398</td>\n",
              "      <td>2932.545269</td>\n",
              "      <td>2333.474199</td>\n",
              "      <td>5830.976574</td>\n",
              "      <td>0.111680</td>\n",
              "      <td>36.648372</td>\n",
              "      <td>24.939315</td>\n",
              "      <td>-22.085232</td>\n",
              "      <td>13.273696</td>\n",
              "      <td>-1.400674</td>\n",
              "      <td>0.286512</td>\n",
              "      <td>-2.392393</td>\n",
              "      <td>4.240376</td>\n",
              "      <td>-0.944297</td>\n",
              "      <td>7.417186</td>\n",
              "      <td>-2.185398</td>\n",
              "      <td>3.059307</td>\n",
              "      <td>6.500753</td>\n",
              "      <td>12.706463</td>\n",
              "      <td>3.736702</td>\n",
              "      <td>5.870387</td>\n",
              "      <td>-0.400490</td>\n",
              "      <td>4.164804</td>\n",
              "      <td>-1.698175</td>\n",
              "      <td>3.853791</td>\n",
              "    </tr>\n",
              "    <tr>\n",
              "      <th>1</th>\n",
              "      <td>1</td>\n",
              "      <td>001ca53d.wav</td>\n",
              "      <td>Saxophone</td>\n",
              "      <td>1</td>\n",
              "      <td>0.204406</td>\n",
              "      <td>0.923229</td>\n",
              "      <td>3013.667471</td>\n",
              "      <td>2878.744502</td>\n",
              "      <td>6674.518573</td>\n",
              "      <td>0.036462</td>\n",
              "      <td>73.882078</td>\n",
              "      <td>27.773626</td>\n",
              "      <td>-10.746949</td>\n",
              "      <td>11.037612</td>\n",
              "      <td>-4.838018</td>\n",
              "      <td>4.092238</td>\n",
              "      <td>-5.164023</td>\n",
              "      <td>0.537712</td>\n",
              "      <td>-7.852136</td>\n",
              "      <td>-1.915030</td>\n",
              "      <td>-8.089819</td>\n",
              "      <td>-0.549957</td>\n",
              "      <td>-5.423865</td>\n",
              "      <td>0.538680</td>\n",
              "      <td>-5.573924</td>\n",
              "      <td>0.016405</td>\n",
              "      <td>-2.839659</td>\n",
              "      <td>5.608781</td>\n",
              "      <td>0.220564</td>\n",
              "      <td>4.010988</td>\n",
              "    </tr>\n",
              "    <tr>\n",
              "      <th>2</th>\n",
              "      <td>2</td>\n",
              "      <td>002d256b.wav</td>\n",
              "      <td>Trumpet</td>\n",
              "      <td>0</td>\n",
              "      <td>0.764434</td>\n",
              "      <td>0.991074</td>\n",
              "      <td>1057.516532</td>\n",
              "      <td>1393.707990</td>\n",
              "      <td>2653.683954</td>\n",
              "      <td>0.005345</td>\n",
              "      <td>-247.694102</td>\n",
              "      <td>29.715195</td>\n",
              "      <td>0.742903</td>\n",
              "      <td>8.938042</td>\n",
              "      <td>6.261368</td>\n",
              "      <td>9.837749</td>\n",
              "      <td>4.959741</td>\n",
              "      <td>7.573261</td>\n",
              "      <td>4.506092</td>\n",
              "      <td>10.080269</td>\n",
              "      <td>8.504948</td>\n",
              "      <td>10.903479</td>\n",
              "      <td>7.870696</td>\n",
              "      <td>9.693287</td>\n",
              "      <td>4.800791</td>\n",
              "      <td>7.440450</td>\n",
              "      <td>4.874798</td>\n",
              "      <td>7.284901</td>\n",
              "      <td>4.745445</td>\n",
              "      <td>7.908377</td>\n",
              "    </tr>\n",
              "    <tr>\n",
              "      <th>3</th>\n",
              "      <td>3</td>\n",
              "      <td>00353774.wav</td>\n",
              "      <td>Cello</td>\n",
              "      <td>1</td>\n",
              "      <td>0.279727</td>\n",
              "      <td>0.927143</td>\n",
              "      <td>3245.598952</td>\n",
              "      <td>2805.883303</td>\n",
              "      <td>6702.844426</td>\n",
              "      <td>0.057695</td>\n",
              "      <td>76.192768</td>\n",
              "      <td>25.364872</td>\n",
              "      <td>-12.743592</td>\n",
              "      <td>11.450991</td>\n",
              "      <td>-7.044229</td>\n",
              "      <td>2.298590</td>\n",
              "      <td>-5.045685</td>\n",
              "      <td>3.625585</td>\n",
              "      <td>0.352085</td>\n",
              "      <td>6.339332</td>\n",
              "      <td>-0.660011</td>\n",
              "      <td>4.499685</td>\n",
              "      <td>-4.508909</td>\n",
              "      <td>-0.846468</td>\n",
              "      <td>-4.571769</td>\n",
              "      <td>0.493590</td>\n",
              "      <td>-4.572783</td>\n",
              "      <td>3.684966</td>\n",
              "      <td>0.125284</td>\n",
              "      <td>4.653927</td>\n",
              "    </tr>\n",
              "    <tr>\n",
              "      <th>4</th>\n",
              "      <td>4</td>\n",
              "      <td>003b91e8.wav</td>\n",
              "      <td>Cello</td>\n",
              "      <td>0</td>\n",
              "      <td>0.396491</td>\n",
              "      <td>0.956235</td>\n",
              "      <td>2566.340154</td>\n",
              "      <td>2814.470641</td>\n",
              "      <td>6052.079104</td>\n",
              "      <td>0.021268</td>\n",
              "      <td>116.398614</td>\n",
              "      <td>74.268143</td>\n",
              "      <td>-3.818645</td>\n",
              "      <td>19.433300</td>\n",
              "      <td>3.240486</td>\n",
              "      <td>8.229486</td>\n",
              "      <td>-3.693745</td>\n",
              "      <td>3.349545</td>\n",
              "      <td>-2.469640</td>\n",
              "      <td>4.359043</td>\n",
              "      <td>-3.767127</td>\n",
              "      <td>1.091875</td>\n",
              "      <td>-5.481384</td>\n",
              "      <td>0.457637</td>\n",
              "      <td>-4.913501</td>\n",
              "      <td>1.221969</td>\n",
              "      <td>-3.885958</td>\n",
              "      <td>1.972538</td>\n",
              "      <td>-4.278274</td>\n",
              "      <td>-0.143118</td>\n",
              "    </tr>\n",
              "  </tbody>\n",
              "</table>\n",
              "</div>"
            ],
            "text/plain": [
              "   Unnamed: 0         fname      label  ...    mfcc18    mfcc19    mfcc20\n",
              "0           0  00044347.wav     Hi-hat  ...  4.164804 -1.698175  3.853791\n",
              "1           1  001ca53d.wav  Saxophone  ...  5.608781  0.220564  4.010988\n",
              "2           2  002d256b.wav    Trumpet  ...  7.284901  4.745445  7.908377\n",
              "3           3  00353774.wav      Cello  ...  3.684966  0.125284  4.653927\n",
              "4           4  003b91e8.wav      Cello  ...  1.972538 -4.278274 -0.143118\n",
              "\n",
              "[5 rows x 30 columns]"
            ]
          },
          "metadata": {
            "tags": []
          },
          "execution_count": 26
        }
      ]
    },
    {
      "cell_type": "code",
      "metadata": {
        "id": "PXPQ4oJKE5VX",
        "colab_type": "code",
        "colab": {}
      },
      "source": [
        "#### Be Careful around this block: the 'label' column of the df is being mapped from strings to numbers \n",
        "labels = mel_features['label'].unique()\n",
        "d_label = dict(zip(labels, range(0,10)))\n",
        "reverse_label = dict(zip(range(0,10), labels))\n",
        "mel_features['label'] = mel_features['label'].map(lambda x: d_label[x], na_action = 'ignore')"
      ],
      "execution_count": 0,
      "outputs": []
    },
    {
      "cell_type": "code",
      "metadata": {
        "id": "XJuGkQffFPtF",
        "colab_type": "code",
        "outputId": "e1dac187-e420-4d2a-f411-c3837162e846",
        "colab": {
          "base_uri": "https://localhost:8080/",
          "height": 238
        }
      },
      "source": [
        "mel_features.head()"
      ],
      "execution_count": 0,
      "outputs": [
        {
          "output_type": "execute_result",
          "data": {
            "text/html": [
              "<div>\n",
              "<style scoped>\n",
              "    .dataframe tbody tr th:only-of-type {\n",
              "        vertical-align: middle;\n",
              "    }\n",
              "\n",
              "    .dataframe tbody tr th {\n",
              "        vertical-align: top;\n",
              "    }\n",
              "\n",
              "    .dataframe thead th {\n",
              "        text-align: right;\n",
              "    }\n",
              "</style>\n",
              "<table border=\"1\" class=\"dataframe\">\n",
              "  <thead>\n",
              "    <tr style=\"text-align: right;\">\n",
              "      <th></th>\n",
              "      <th>Unnamed: 0</th>\n",
              "      <th>fname</th>\n",
              "      <th>label</th>\n",
              "      <th>manually_verified</th>\n",
              "      <th>chroma_stft</th>\n",
              "      <th>rmse</th>\n",
              "      <th>spectral_centroid</th>\n",
              "      <th>spectral_bandwidth</th>\n",
              "      <th>rolloff</th>\n",
              "      <th>zero_crossing_rate</th>\n",
              "      <th>mfcc1</th>\n",
              "      <th>mfcc2</th>\n",
              "      <th>mfcc3</th>\n",
              "      <th>mfcc4</th>\n",
              "      <th>mfcc5</th>\n",
              "      <th>mfcc6</th>\n",
              "      <th>mfcc7</th>\n",
              "      <th>mfcc8</th>\n",
              "      <th>mfcc9</th>\n",
              "      <th>mfcc10</th>\n",
              "      <th>mfcc11</th>\n",
              "      <th>mfcc12</th>\n",
              "      <th>mfcc13</th>\n",
              "      <th>mfcc14</th>\n",
              "      <th>mfcc15</th>\n",
              "      <th>mfcc16</th>\n",
              "      <th>mfcc17</th>\n",
              "      <th>mfcc18</th>\n",
              "      <th>mfcc19</th>\n",
              "      <th>mfcc20</th>\n",
              "    </tr>\n",
              "  </thead>\n",
              "  <tbody>\n",
              "    <tr>\n",
              "      <th>0</th>\n",
              "      <td>0</td>\n",
              "      <td>00044347.wav</td>\n",
              "      <td>0</td>\n",
              "      <td>0</td>\n",
              "      <td>0.689457</td>\n",
              "      <td>0.964398</td>\n",
              "      <td>2932.545269</td>\n",
              "      <td>2333.474199</td>\n",
              "      <td>5830.976574</td>\n",
              "      <td>0.111680</td>\n",
              "      <td>36.648372</td>\n",
              "      <td>24.939315</td>\n",
              "      <td>-22.085232</td>\n",
              "      <td>13.273696</td>\n",
              "      <td>-1.400674</td>\n",
              "      <td>0.286512</td>\n",
              "      <td>-2.392393</td>\n",
              "      <td>4.240376</td>\n",
              "      <td>-0.944297</td>\n",
              "      <td>7.417186</td>\n",
              "      <td>-2.185398</td>\n",
              "      <td>3.059307</td>\n",
              "      <td>6.500753</td>\n",
              "      <td>12.706463</td>\n",
              "      <td>3.736702</td>\n",
              "      <td>5.870387</td>\n",
              "      <td>-0.400490</td>\n",
              "      <td>4.164804</td>\n",
              "      <td>-1.698175</td>\n",
              "      <td>3.853791</td>\n",
              "    </tr>\n",
              "    <tr>\n",
              "      <th>1</th>\n",
              "      <td>1</td>\n",
              "      <td>001ca53d.wav</td>\n",
              "      <td>1</td>\n",
              "      <td>1</td>\n",
              "      <td>0.204406</td>\n",
              "      <td>0.923229</td>\n",
              "      <td>3013.667471</td>\n",
              "      <td>2878.744502</td>\n",
              "      <td>6674.518573</td>\n",
              "      <td>0.036462</td>\n",
              "      <td>73.882078</td>\n",
              "      <td>27.773626</td>\n",
              "      <td>-10.746949</td>\n",
              "      <td>11.037612</td>\n",
              "      <td>-4.838018</td>\n",
              "      <td>4.092238</td>\n",
              "      <td>-5.164023</td>\n",
              "      <td>0.537712</td>\n",
              "      <td>-7.852136</td>\n",
              "      <td>-1.915030</td>\n",
              "      <td>-8.089819</td>\n",
              "      <td>-0.549957</td>\n",
              "      <td>-5.423865</td>\n",
              "      <td>0.538680</td>\n",
              "      <td>-5.573924</td>\n",
              "      <td>0.016405</td>\n",
              "      <td>-2.839659</td>\n",
              "      <td>5.608781</td>\n",
              "      <td>0.220564</td>\n",
              "      <td>4.010988</td>\n",
              "    </tr>\n",
              "    <tr>\n",
              "      <th>2</th>\n",
              "      <td>2</td>\n",
              "      <td>002d256b.wav</td>\n",
              "      <td>2</td>\n",
              "      <td>0</td>\n",
              "      <td>0.764434</td>\n",
              "      <td>0.991074</td>\n",
              "      <td>1057.516532</td>\n",
              "      <td>1393.707990</td>\n",
              "      <td>2653.683954</td>\n",
              "      <td>0.005345</td>\n",
              "      <td>-247.694102</td>\n",
              "      <td>29.715195</td>\n",
              "      <td>0.742903</td>\n",
              "      <td>8.938042</td>\n",
              "      <td>6.261368</td>\n",
              "      <td>9.837749</td>\n",
              "      <td>4.959741</td>\n",
              "      <td>7.573261</td>\n",
              "      <td>4.506092</td>\n",
              "      <td>10.080269</td>\n",
              "      <td>8.504948</td>\n",
              "      <td>10.903479</td>\n",
              "      <td>7.870696</td>\n",
              "      <td>9.693287</td>\n",
              "      <td>4.800791</td>\n",
              "      <td>7.440450</td>\n",
              "      <td>4.874798</td>\n",
              "      <td>7.284901</td>\n",
              "      <td>4.745445</td>\n",
              "      <td>7.908377</td>\n",
              "    </tr>\n",
              "    <tr>\n",
              "      <th>3</th>\n",
              "      <td>3</td>\n",
              "      <td>00353774.wav</td>\n",
              "      <td>3</td>\n",
              "      <td>1</td>\n",
              "      <td>0.279727</td>\n",
              "      <td>0.927143</td>\n",
              "      <td>3245.598952</td>\n",
              "      <td>2805.883303</td>\n",
              "      <td>6702.844426</td>\n",
              "      <td>0.057695</td>\n",
              "      <td>76.192768</td>\n",
              "      <td>25.364872</td>\n",
              "      <td>-12.743592</td>\n",
              "      <td>11.450991</td>\n",
              "      <td>-7.044229</td>\n",
              "      <td>2.298590</td>\n",
              "      <td>-5.045685</td>\n",
              "      <td>3.625585</td>\n",
              "      <td>0.352085</td>\n",
              "      <td>6.339332</td>\n",
              "      <td>-0.660011</td>\n",
              "      <td>4.499685</td>\n",
              "      <td>-4.508909</td>\n",
              "      <td>-0.846468</td>\n",
              "      <td>-4.571769</td>\n",
              "      <td>0.493590</td>\n",
              "      <td>-4.572783</td>\n",
              "      <td>3.684966</td>\n",
              "      <td>0.125284</td>\n",
              "      <td>4.653927</td>\n",
              "    </tr>\n",
              "    <tr>\n",
              "      <th>4</th>\n",
              "      <td>4</td>\n",
              "      <td>003b91e8.wav</td>\n",
              "      <td>3</td>\n",
              "      <td>0</td>\n",
              "      <td>0.396491</td>\n",
              "      <td>0.956235</td>\n",
              "      <td>2566.340154</td>\n",
              "      <td>2814.470641</td>\n",
              "      <td>6052.079104</td>\n",
              "      <td>0.021268</td>\n",
              "      <td>116.398614</td>\n",
              "      <td>74.268143</td>\n",
              "      <td>-3.818645</td>\n",
              "      <td>19.433300</td>\n",
              "      <td>3.240486</td>\n",
              "      <td>8.229486</td>\n",
              "      <td>-3.693745</td>\n",
              "      <td>3.349545</td>\n",
              "      <td>-2.469640</td>\n",
              "      <td>4.359043</td>\n",
              "      <td>-3.767127</td>\n",
              "      <td>1.091875</td>\n",
              "      <td>-5.481384</td>\n",
              "      <td>0.457637</td>\n",
              "      <td>-4.913501</td>\n",
              "      <td>1.221969</td>\n",
              "      <td>-3.885958</td>\n",
              "      <td>1.972538</td>\n",
              "      <td>-4.278274</td>\n",
              "      <td>-0.143118</td>\n",
              "    </tr>\n",
              "  </tbody>\n",
              "</table>\n",
              "</div>"
            ],
            "text/plain": [
              "   Unnamed: 0         fname  label  ...    mfcc18    mfcc19    mfcc20\n",
              "0           0  00044347.wav      0  ...  4.164804 -1.698175  3.853791\n",
              "1           1  001ca53d.wav      1  ...  5.608781  0.220564  4.010988\n",
              "2           2  002d256b.wav      2  ...  7.284901  4.745445  7.908377\n",
              "3           3  00353774.wav      3  ...  3.684966  0.125284  4.653927\n",
              "4           4  003b91e8.wav      3  ...  1.972538 -4.278274 -0.143118\n",
              "\n",
              "[5 rows x 30 columns]"
            ]
          },
          "metadata": {
            "tags": []
          },
          "execution_count": 5
        }
      ]
    },
    {
      "cell_type": "code",
      "metadata": {
        "id": "8Bf89NstGI3I",
        "colab_type": "code",
        "outputId": "a2863e8d-9eb6-478b-d63d-225fa92f82da",
        "colab": {
          "base_uri": "https://localhost:8080/",
          "height": 54
        }
      },
      "source": [
        "features = mel_features.iloc[:, 4:].to_numpy()\n",
        "labels = mel_features['label'].to_numpy()\n",
        "print(labels)"
      ],
      "execution_count": 0,
      "outputs": [
        {
          "output_type": "stream",
          "text": [
            "[0 1 2 ... 5 7 0]\n"
          ],
          "name": "stdout"
        }
      ]
    },
    {
      "cell_type": "code",
      "metadata": {
        "id": "88B1wuMJF4L5",
        "colab_type": "code",
        "colab": {}
      },
      "source": [
        "from sklearn.model_selection import train_test_split\n",
        "from sklearn.ensemble import RandomForestClassifier\n",
        "from sklearn import metrics\n"
      ],
      "execution_count": 0,
      "outputs": []
    },
    {
      "cell_type": "code",
      "metadata": {
        "id": "PePCnaAuFfCY",
        "colab_type": "code",
        "colab": {}
      },
      "source": [
        "X_train, X_test, y_train, y_test = train_test_split(features, labels, test_size = 0.10, random_state = 42)\n",
        "# np.shape(X_train)"
      ],
      "execution_count": 0,
      "outputs": []
    },
    {
      "cell_type": "code",
      "metadata": {
        "id": "FlyYDlO3G4gl",
        "colab_type": "code",
        "outputId": "9e607b02-a0b5-4a37-f227-a7e7a69c1607",
        "colab": {
          "base_uri": "https://localhost:8080/",
          "height": 54
        }
      },
      "source": [
        "clf=RandomForestClassifier(n_estimators=1000)\n",
        "clf.fit(features, labels)\n",
        "y_pred=clf.predict(X_test)\n",
        "\n",
        "print(\"Accuracy:\",metrics.accuracy_score(y_test, y_pred))"
      ],
      "execution_count": 0,
      "outputs": [
        {
          "output_type": "stream",
          "text": [
            "Accuracy: 1.0\n"
          ],
          "name": "stdout"
        }
      ]
    },
    {
      "cell_type": "code",
      "metadata": {
        "id": "eAocQkHXBriD",
        "colab_type": "code",
        "outputId": "7587110d-0844-467f-9c38-547f23532b1f",
        "colab": {
          "base_uri": "https://localhost:8080/",
          "height": 120
        }
      },
      "source": [
        "pip install cleanlab"
      ],
      "execution_count": 0,
      "outputs": [
        {
          "output_type": "stream",
          "text": [
            "Requirement already satisfied: cleanlab in /usr/local/lib/python3.6/dist-packages (0.1.0)\n",
            "Requirement already satisfied: scipy>=1.1.0 in /usr/local/lib/python3.6/dist-packages (from cleanlab) (1.3.2)\n",
            "Requirement already satisfied: scikit-learn>=0.18 in /usr/local/lib/python3.6/dist-packages (from cleanlab) (0.21.3)\n",
            "Requirement already satisfied: numpy>=1.11.3 in /usr/local/lib/python3.6/dist-packages (from cleanlab) (1.17.4)\n",
            "Requirement already satisfied: joblib>=0.11 in /usr/local/lib/python3.6/dist-packages (from scikit-learn>=0.18->cleanlab) (0.14.0)\n"
          ],
          "name": "stdout"
        }
      ]
    },
    {
      "cell_type": "code",
      "metadata": {
        "id": "AKGbqym_CqpI",
        "colab_type": "code",
        "colab": {}
      },
      "source": [
        "from cleanlab.classification import LearningWithNoisyLabels\n",
        "from sklearn.linear_model import LogisticRegression"
      ],
      "execution_count": 0,
      "outputs": []
    },
    {
      "cell_type": "code",
      "metadata": {
        "id": "DnTyH238B44L",
        "colab_type": "code",
        "outputId": "e47f2105-725f-40bb-99c2-e8b8309646c4",
        "colab": {
          "base_uri": "https://localhost:8080/",
          "height": 54
        }
      },
      "source": [
        "lnl = LearningWithNoisyLabels(clf=RandomForestClassifier(n_estimators=100))\n",
        "lnl.fit(X = X_train, s = y_train)\n",
        "y_pred = lnl.predict(X_test)\n",
        "print(\"Accuracy:\",metrics.accuracy_score(y_test, y_pred))"
      ],
      "execution_count": 0,
      "outputs": [
        {
          "output_type": "stream",
          "text": [
            "Accuracy: 0.6884057971014492\n"
          ],
          "name": "stdout"
        }
      ]
    },
    {
      "cell_type": "code",
      "metadata": {
        "id": "ldEM7iUSGN4B",
        "colab_type": "code",
        "colab": {}
      },
      "source": [
        "test_mel_features = pd.read_csv('/content/drive/Shared drives/301FP/Data_Folder/melfeatures_testdata.csv')\n",
        "test_features = test_mel_features.iloc[:, 2:].to_numpy()\n",
        "test_prediction = clf.predict(test_features)\n",
        "test_prediction\n",
        "test_mel_features['label'] = test_prediction\n"
      ],
      "execution_count": 0,
      "outputs": []
    },
    {
      "cell_type": "code",
      "metadata": {
        "id": "_JbJX4IJJY_d",
        "colab_type": "code",
        "outputId": "540e07a3-e06b-4bbf-d10f-3ec72f8f0876",
        "colab": {
          "base_uri": "https://localhost:8080/",
          "height": 252
        }
      },
      "source": [
        "test_mel_features.head()\n",
        "final_predictions = test_mel_features[['filename', 'label']]\n",
        "final_predictions = final_predictions.rename(columns={'filename': 'fname'})\n",
        "final_predictions = final_predictions.set_index('fname')\n",
        "final_predictions['label'] = final_predictions['label'].apply(lambda x: reverse_label[x])\n",
        "\n",
        "final_predictions.to_csv('/content/drive/Shared drives/301FP/Data_Folder/RandomForestPredictions1.csv')\n",
        "final_predictions.head()\n"
      ],
      "execution_count": 0,
      "outputs": [
        {
          "output_type": "execute_result",
          "data": {
            "text/html": [
              "<div>\n",
              "<style scoped>\n",
              "    .dataframe tbody tr th:only-of-type {\n",
              "        vertical-align: middle;\n",
              "    }\n",
              "\n",
              "    .dataframe tbody tr th {\n",
              "        vertical-align: top;\n",
              "    }\n",
              "\n",
              "    .dataframe thead th {\n",
              "        text-align: right;\n",
              "    }\n",
              "</style>\n",
              "<table border=\"1\" class=\"dataframe\">\n",
              "  <thead>\n",
              "    <tr style=\"text-align: right;\">\n",
              "      <th></th>\n",
              "      <th>label</th>\n",
              "    </tr>\n",
              "    <tr>\n",
              "      <th>fname</th>\n",
              "      <th></th>\n",
              "    </tr>\n",
              "  </thead>\n",
              "  <tbody>\n",
              "    <tr>\n",
              "      <th>7132bfb1.wav</th>\n",
              "      <td>Trumpet</td>\n",
              "    </tr>\n",
              "    <tr>\n",
              "      <th>05ad10fb.wav</th>\n",
              "      <td>Trumpet</td>\n",
              "    </tr>\n",
              "    <tr>\n",
              "      <th>f819b0d1.wav</th>\n",
              "      <td>Violin_or_fiddle</td>\n",
              "    </tr>\n",
              "    <tr>\n",
              "      <th>fd6430d6.wav</th>\n",
              "      <td>Fart</td>\n",
              "    </tr>\n",
              "    <tr>\n",
              "      <th>27ebc5bc.wav</th>\n",
              "      <td>Cello</td>\n",
              "    </tr>\n",
              "  </tbody>\n",
              "</table>\n",
              "</div>"
            ],
            "text/plain": [
              "                         label\n",
              "fname                         \n",
              "7132bfb1.wav           Trumpet\n",
              "05ad10fb.wav           Trumpet\n",
              "f819b0d1.wav  Violin_or_fiddle\n",
              "fd6430d6.wav              Fart\n",
              "27ebc5bc.wav             Cello"
            ]
          },
          "metadata": {
            "tags": []
          },
          "execution_count": 23
        }
      ]
    }
  ]
}