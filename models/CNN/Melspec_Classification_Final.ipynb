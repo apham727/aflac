{
  "nbformat": 4,
  "nbformat_minor": 0,
  "metadata": {
    "colab": {
      "name": "Melspec_Classification_Final.ipynb",
      "provenance": [],
      "collapsed_sections": []
    },
    "kernelspec": {
      "name": "python3",
      "display_name": "Python 3"
    },
    "accelerator": "GPU"
  },
  "cells": [
    {
      "cell_type": "markdown",
      "metadata": {
        "id": "v87kCRHyRbqX",
        "colab_type": "text"
      },
      "source": [
        "The following procedure uses a convolution neural network to predict instruments off of relabeled training data. \n",
        "\n",
        "- The relabeled training data was obtained from the XgBoostRelabeler procedure, where we used an XgBoost Classifier to repredict nonmanually verified training data.\n",
        "\n",
        "- Then, the relabeled training data was used to train a convolutional neural network. \n",
        "\n",
        "- Finally, the trained CNN was used to classify the test data. "
      ]
    },
    {
      "cell_type": "code",
      "metadata": {
        "id": "O3ahSfdNMVt2",
        "colab_type": "code",
        "outputId": "abb9709e-633a-4f99-c28b-963689459d92",
        "colab": {
          "base_uri": "https://localhost:8080/",
          "height": 78
        }
      },
      "source": [
        "import os\n",
        "import glob\n",
        "import librosa\n",
        "import numpy as np\n",
        "import pandas as pd\n",
        "from tqdm import tqdm\n",
        "from PIL import Image\n",
        "import tensorflow as tf\n",
        "from keras import optimizers, losses, activations, models\n",
        "from keras.callbacks import ModelCheckpoint, EarlyStopping\n",
        "from keras.layers import Dense, Input, Dropout, BatchNormalization, Convolution2D, MaxPooling2D, GlobalMaxPool2D\n",
        "from sklearn.model_selection import train_test_split\n",
        "from random import shuffle\n",
        "from keras.models import Sequential\n",
        "from keras.layers import Dense, Activation\n",
        "from keras.layers import *"
      ],
      "execution_count": 0,
      "outputs": [
        {
          "output_type": "display_data",
          "data": {
            "text/html": [
              "<p style=\"color: red;\">\n",
              "The default version of TensorFlow in Colab will soon switch to TensorFlow 2.x.<br>\n",
              "We recommend you <a href=\"https://www.tensorflow.org/guide/migrate\" target=\"_blank\">upgrade</a> now \n",
              "or ensure your notebook will continue to use TensorFlow 1.x via the <code>%tensorflow_version 1.x</code> magic:\n",
              "<a href=\"https://colab.research.google.com/notebooks/tensorflow_version.ipynb\" target=\"_blank\">more info</a>.</p>\n"
            ],
            "text/plain": [
              "<IPython.core.display.HTML object>"
            ]
          },
          "metadata": {
            "tags": []
          }
        },
        {
          "output_type": "stream",
          "text": [
            "Using TensorFlow backend.\n"
          ],
          "name": "stderr"
        }
      ]
    },
    {
      "cell_type": "code",
      "metadata": {
        "id": "4S50ls2iMb9X",
        "colab_type": "code",
        "outputId": "950ba42d-ea58-4bc0-a454-dcd6a3e94b13",
        "colab": {
          "base_uri": "https://localhost:8080/",
          "height": 118
        }
      },
      "source": [
        "from google.colab import drive\n",
        "drive.mount('/content/drive')"
      ],
      "execution_count": 0,
      "outputs": [
        {
          "output_type": "stream",
          "text": [
            "Go to this URL in a browser: https://accounts.google.com/o/oauth2/auth?client_id=947318989803-6bn6qk8qdgf4n4g3pfee6491hc0brc4i.apps.googleusercontent.com&redirect_uri=urn%3aietf%3awg%3aoauth%3a2.0%3aoob&response_type=code&scope=email%20https%3a%2f%2fwww.googleapis.com%2fauth%2fdocs.test%20https%3a%2f%2fwww.googleapis.com%2fauth%2fdrive%20https%3a%2f%2fwww.googleapis.com%2fauth%2fdrive.photos.readonly%20https%3a%2f%2fwww.googleapis.com%2fauth%2fpeopleapi.readonly\n",
            "\n",
            "Enter your authorization code:\n",
            "··········\n",
            "Mounted at /content/drive\n"
          ],
          "name": "stdout"
        }
      ]
    },
    {
      "cell_type": "markdown",
      "metadata": {
        "id": "aJw0H-sqLSGr",
        "colab_type": "text"
      },
      "source": [
        "Created CNN architecture:\n",
        "- Used multiple convolution layers with increasing filter size\n",
        "- Added L2 regularization to replace utilization of dropout in early layers\n",
        "- Utilized strides to increase chunk size used by CNN\n",
        "- Used softmax activation over sigmoid due to improvement in accuracy \n",
        "- learning_rate = 0.0005 balanced for convergence\n",
        "- categorical_crossentropy for loss function due to multi-class problem"
      ]
    },
    {
      "cell_type": "code",
      "metadata": {
        "id": "FMVhRj34QSG-",
        "colab_type": "code",
        "outputId": "d7dca0d4-7731-4169-aae0-3ecd6c0e6a12",
        "colab": {
          "base_uri": "https://localhost:8080/",
          "height": 938
        }
      },
      "source": [
        "from keras.layers import Dense, Activation, Flatten, Dropout, BatchNormalization\n",
        "from keras.models import Sequential, Model\n",
        "from keras.layers import Conv2D, MaxPooling2D\n",
        "from keras import regularizers, optimizers\n",
        "from keras.regularizers import l2\n",
        "import pandas as pd\n",
        "import numpy as np\n",
        "\n",
        "# model = Sequential()\n",
        "# model.add(Conv2D(32, (7, 7), padding='valid', input_shape=(288,432,3)))\n",
        "# model.add(Activation('relu'))\n",
        "\n",
        "# model.add(Conv2D(64, (3, 3)))\n",
        "# model.add(Activation('relu'))\n",
        "# model.add(MaxPooling2D(pool_size=(2, 2)))\n",
        "# model.add(Dropout(0.25))\n",
        "\n",
        "# model.add(Conv2D(64, (3, 3), padding='same'))\n",
        "# model.add(Activation('relu'))\n",
        "# model.add(Conv2D(64, (3, 3)))\n",
        "# model.add(Activation('relu'))\n",
        "# model.add(MaxPooling2D(pool_size=(2, 2)))\n",
        "# model.add(Dropout(0.5))\n",
        "\n",
        "# model.add(Conv2D(128, (3, 3), padding='same'))\n",
        "# model.add(Activation('relu'))\n",
        "# model.add(Conv2D(128, (3, 3)))\n",
        "# model.add(Activation('relu'))\n",
        "# model.add(MaxPooling2D(pool_size=(2, 2)))\n",
        "# model.add(Dropout(0.5))\n",
        "\n",
        "# model.add(Flatten())\n",
        "# model.add(Dense(512))\n",
        "# model.add(Activation('relu'))\n",
        "# model.add(Dropout(0.5))\n",
        "\n",
        "# model.add(Dense(10, activation='softmax'))\n",
        "# model.compile(optimizers.rmsprop(lr=0.0005, decay=1e-6),loss=\"categorical_crossentropy\",metrics=[\"categorical_accuracy\"])\n",
        "# model.summary()\n",
        "\n",
        "model = Sequential()\n",
        "model.add(Conv2D(32, (7, 7), padding='valid', input_shape=(288,432,3), kernel_regularizer=l2(0.0005)))\n",
        "model.add(Activation('relu'))\n",
        "\n",
        "model.add(Conv2D(32, (7, 7), padding='same'))\n",
        "model.add(Activation('relu'))\n",
        "\n",
        "model.add(Dropout(0.25))\n",
        "\n",
        "model.add(Conv2D(32, (1, 1), strides=(2,2), kernel_regularizer=l2(0.0005), padding='same'))\n",
        "\n",
        "model.add(Conv2D(64, (3, 3), strides=(2,2), kernel_regularizer=l2(0.0005), padding='same'))\n",
        "model.add(Activation('relu'))\n",
        "# model.add(MaxPooling2D(pool_size=(2, 2)))\n",
        "\n",
        "\n",
        "model.add(Conv2D(64, (3, 3), strides=(2, 2), padding='same'))\n",
        "model.add(Activation('relu'))\n",
        "model.add(Dropout(0.35))\n",
        "model.add(Conv2D(64, (3, 3), strides=(2, 2)))\n",
        "model.add(Activation('relu'))\n",
        "# model.add(MaxPooling2D(pool_size=(2, 2)))\n",
        "\n",
        "model.add(Conv2D(64, (1, 1), strides=(2,2), kernel_regularizer=l2(0.0005), padding='same'))\n",
        "\n",
        "\n",
        "model.add(Conv2D(64, (3, 3), strides=(2, 2), padding='same'))\n",
        "model.add(Activation('relu'))\n",
        "model.add(Dropout(0.35))\n",
        "model.add(Conv2D(64, (3, 3),strides=(2, 2), padding='same'))\n",
        "model.add(Activation('relu'))\n",
        "# model.add(MaxPooling2D(pool_size=(2, 2)))\n",
        "# model.add(Dropout(0.4))\n",
        "\n",
        "model.add(Flatten())\n",
        "model.add(Dense(10))\n",
        "model.add(Activation('relu'))\n",
        "model.add(Dropout(0.35))\n",
        "\n",
        "model.add(Dense(10, activation='softmax'))\n",
        "\n",
        "model.compile(optimizers.rmsprop(lr=0.0005, decay=1e-6),loss=\"categorical_crossentropy\",metrics=[\"accuracy\"])\n",
        "# optimizers.rmsprop(lr=0.0005, decay=1e-6) )optimizers.Adam(lr=0.00075, beta_1=0.9, beta_2=0.999, amsgrad=False)\n",
        "model.summary()"
      ],
      "execution_count": 0,
      "outputs": [
        {
          "output_type": "stream",
          "text": [
            "Model: \"sequential_5\"\n",
            "_________________________________________________________________\n",
            "Layer (type)                 Output Shape              Param #   \n",
            "=================================================================\n",
            "conv2d_37 (Conv2D)           (None, 282, 426, 32)      4736      \n",
            "_________________________________________________________________\n",
            "activation_33 (Activation)   (None, 282, 426, 32)      0         \n",
            "_________________________________________________________________\n",
            "conv2d_38 (Conv2D)           (None, 282, 426, 32)      50208     \n",
            "_________________________________________________________________\n",
            "activation_34 (Activation)   (None, 282, 426, 32)      0         \n",
            "_________________________________________________________________\n",
            "dropout_17 (Dropout)         (None, 282, 426, 32)      0         \n",
            "_________________________________________________________________\n",
            "conv2d_39 (Conv2D)           (None, 141, 213, 32)      1056      \n",
            "_________________________________________________________________\n",
            "conv2d_40 (Conv2D)           (None, 71, 107, 64)       18496     \n",
            "_________________________________________________________________\n",
            "activation_35 (Activation)   (None, 71, 107, 64)       0         \n",
            "_________________________________________________________________\n",
            "conv2d_41 (Conv2D)           (None, 36, 54, 64)        36928     \n",
            "_________________________________________________________________\n",
            "activation_36 (Activation)   (None, 36, 54, 64)        0         \n",
            "_________________________________________________________________\n",
            "dropout_18 (Dropout)         (None, 36, 54, 64)        0         \n",
            "_________________________________________________________________\n",
            "conv2d_42 (Conv2D)           (None, 17, 26, 64)        36928     \n",
            "_________________________________________________________________\n",
            "activation_37 (Activation)   (None, 17, 26, 64)        0         \n",
            "_________________________________________________________________\n",
            "conv2d_43 (Conv2D)           (None, 9, 13, 64)         4160      \n",
            "_________________________________________________________________\n",
            "conv2d_44 (Conv2D)           (None, 5, 7, 64)          36928     \n",
            "_________________________________________________________________\n",
            "activation_38 (Activation)   (None, 5, 7, 64)          0         \n",
            "_________________________________________________________________\n",
            "dropout_19 (Dropout)         (None, 5, 7, 64)          0         \n",
            "_________________________________________________________________\n",
            "conv2d_45 (Conv2D)           (None, 3, 4, 64)          36928     \n",
            "_________________________________________________________________\n",
            "activation_39 (Activation)   (None, 3, 4, 64)          0         \n",
            "_________________________________________________________________\n",
            "flatten_5 (Flatten)          (None, 768)               0         \n",
            "_________________________________________________________________\n",
            "dense_9 (Dense)              (None, 10)                7690      \n",
            "_________________________________________________________________\n",
            "activation_40 (Activation)   (None, 10)                0         \n",
            "_________________________________________________________________\n",
            "dropout_20 (Dropout)         (None, 10)                0         \n",
            "_________________________________________________________________\n",
            "dense_10 (Dense)             (None, 10)                110       \n",
            "=================================================================\n",
            "Total params: 234,168\n",
            "Trainable params: 234,168\n",
            "Non-trainable params: 0\n",
            "_________________________________________________________________\n"
          ],
          "name": "stdout"
        }
      ]
    },
    {
      "cell_type": "code",
      "metadata": {
        "id": "PJ6gHt-byxGM",
        "colab_type": "code",
        "colab": {}
      },
      "source": [
        "from keras_preprocessing.image import ImageDataGenerator\n",
        "# quick function to change ending labels for the file names\n",
        "def append_ext(fn):\n",
        "    return fn+\".png\""
      ],
      "execution_count": 0,
      "outputs": []
    },
    {
      "cell_type": "code",
      "metadata": {
        "id": "G-05fTIL76pA",
        "colab_type": "code",
        "outputId": "b4f1c9e5-51c5-493a-cce3-6cb8e82ffc87",
        "colab": {
          "base_uri": "https://localhost:8080/",
          "height": 32
        }
      },
      "source": [
        "cd /content/drive/Shared drives/301FP/Data_Folder/"
      ],
      "execution_count": 0,
      "outputs": [
        {
          "output_type": "stream",
          "text": [
            "/content/drive/Shared drives/301FP/Data_Folder\n"
          ],
          "name": "stdout"
        }
      ]
    },
    {
      "cell_type": "markdown",
      "metadata": {
        "id": "Ub5cPOuML_dk",
        "colab_type": "text"
      },
      "source": [
        "Load in reverified dataframe from the XGBoost reverification "
      ]
    },
    {
      "cell_type": "code",
      "metadata": {
        "id": "06nB9B1sy45y",
        "colab_type": "code",
        "colab": {}
      },
      "source": [
        "train = pd.read_csv('/content/drive/Shared drives/301FP/Data_Folder/Reverified_XGboostCV.csv',dtype=str)\n",
        "train[\"fname\"] = train[\"fname\"].str[:-4].apply(append_ext) # changing the filenames to png"
      ],
      "execution_count": 0,
      "outputs": []
    },
    {
      "cell_type": "code",
      "metadata": {
        "id": "cJrOk5IUzglP",
        "colab_type": "code",
        "outputId": "4706c296-d28f-41fc-f918-0c3f3039b508",
        "colab": {
          "base_uri": "https://localhost:8080/",
          "height": 237
        }
      },
      "source": [
        "train.head()"
      ],
      "execution_count": 0,
      "outputs": [
        {
          "output_type": "execute_result",
          "data": {
            "text/html": [
              "<div>\n",
              "<style scoped>\n",
              "    .dataframe tbody tr th:only-of-type {\n",
              "        vertical-align: middle;\n",
              "    }\n",
              "\n",
              "    .dataframe tbody tr th {\n",
              "        vertical-align: top;\n",
              "    }\n",
              "\n",
              "    .dataframe thead th {\n",
              "        text-align: right;\n",
              "    }\n",
              "</style>\n",
              "<table border=\"1\" class=\"dataframe\">\n",
              "  <thead>\n",
              "    <tr style=\"text-align: right;\">\n",
              "      <th></th>\n",
              "      <th>Unnamed: 0</th>\n",
              "      <th>Unnamed: 0.1</th>\n",
              "      <th>chroma_stft</th>\n",
              "      <th>fname</th>\n",
              "      <th>label</th>\n",
              "      <th>manually_verified</th>\n",
              "      <th>mfcc1</th>\n",
              "      <th>mfcc10</th>\n",
              "      <th>mfcc11</th>\n",
              "      <th>mfcc12</th>\n",
              "      <th>mfcc13</th>\n",
              "      <th>mfcc14</th>\n",
              "      <th>mfcc15</th>\n",
              "      <th>mfcc16</th>\n",
              "      <th>mfcc17</th>\n",
              "      <th>mfcc18</th>\n",
              "      <th>mfcc19</th>\n",
              "      <th>mfcc2</th>\n",
              "      <th>mfcc20</th>\n",
              "      <th>mfcc3</th>\n",
              "      <th>mfcc4</th>\n",
              "      <th>mfcc5</th>\n",
              "      <th>mfcc6</th>\n",
              "      <th>mfcc7</th>\n",
              "      <th>mfcc8</th>\n",
              "      <th>mfcc9</th>\n",
              "      <th>rmse</th>\n",
              "      <th>rolloff</th>\n",
              "      <th>spectral_bandwidth</th>\n",
              "      <th>spectral_centroid</th>\n",
              "      <th>zero_crossing_rate</th>\n",
              "    </tr>\n",
              "  </thead>\n",
              "  <tbody>\n",
              "    <tr>\n",
              "      <th>0</th>\n",
              "      <td>1</td>\n",
              "      <td>0</td>\n",
              "      <td>0.20440595436091727</td>\n",
              "      <td>001ca53d.png</td>\n",
              "      <td>Saxophone</td>\n",
              "      <td>1</td>\n",
              "      <td>73.88207786974871</td>\n",
              "      <td>-1.915029580601592</td>\n",
              "      <td>-8.089818586751951</td>\n",
              "      <td>-0.5499569560252713</td>\n",
              "      <td>-5.4238645330027415</td>\n",
              "      <td>0.5386799424915237</td>\n",
              "      <td>-5.573923814020498</td>\n",
              "      <td>0.016405066040690162</td>\n",
              "      <td>-2.839658604060232</td>\n",
              "      <td>5.608781320891485</td>\n",
              "      <td>0.22056379680112725</td>\n",
              "      <td>27.773626202683328</td>\n",
              "      <td>4.010987789307758</td>\n",
              "      <td>-10.74694935376651</td>\n",
              "      <td>11.03761198442251</td>\n",
              "      <td>-4.838018278453661</td>\n",
              "      <td>4.092238224115404</td>\n",
              "      <td>-5.164023422553345</td>\n",
              "      <td>0.5377117268210994</td>\n",
              "      <td>-7.852135562112648</td>\n",
              "      <td>0.9232293963432312</td>\n",
              "      <td>6674.51857281395</td>\n",
              "      <td>2878.7445024067592</td>\n",
              "      <td>3013.667471167264</td>\n",
              "      <td>0.036462487311484916</td>\n",
              "    </tr>\n",
              "    <tr>\n",
              "      <th>1</th>\n",
              "      <td>3</td>\n",
              "      <td>0</td>\n",
              "      <td>0.279727365270529</td>\n",
              "      <td>00353774.png</td>\n",
              "      <td>Cello</td>\n",
              "      <td>1</td>\n",
              "      <td>76.19276765279005</td>\n",
              "      <td>6.339331537185839</td>\n",
              "      <td>-0.6600114823495926</td>\n",
              "      <td>4.499685242679059</td>\n",
              "      <td>-4.50890920081733</td>\n",
              "      <td>-0.8464678890391913</td>\n",
              "      <td>-4.5717691798013185</td>\n",
              "      <td>0.4935902924189233</td>\n",
              "      <td>-4.572782833773527</td>\n",
              "      <td>3.684965795286225</td>\n",
              "      <td>0.1252839382956926</td>\n",
              "      <td>25.364872434439217</td>\n",
              "      <td>4.653926803365988</td>\n",
              "      <td>-12.743591974486913</td>\n",
              "      <td>11.450991270420136</td>\n",
              "      <td>-7.044229459006758</td>\n",
              "      <td>2.2985904481052573</td>\n",
              "      <td>-5.0456846965704925</td>\n",
              "      <td>3.625584752808861</td>\n",
              "      <td>0.35208521980384466</td>\n",
              "      <td>0.9271434545516968</td>\n",
              "      <td>6702.84442608173</td>\n",
              "      <td>2805.883302948308</td>\n",
              "      <td>3245.598952406019</td>\n",
              "      <td>0.05769481169871795</td>\n",
              "    </tr>\n",
              "    <tr>\n",
              "      <th>2</th>\n",
              "      <td>5</td>\n",
              "      <td>0</td>\n",
              "      <td>0.6343485051473369</td>\n",
              "      <td>0048fd00.png</td>\n",
              "      <td>Gunshot_or_gunfire</td>\n",
              "      <td>1</td>\n",
              "      <td>118.43283307990806</td>\n",
              "      <td>4.273109338172453</td>\n",
              "      <td>-2.8129454025752114</td>\n",
              "      <td>2.2419198620235483</td>\n",
              "      <td>-3.316026475426633</td>\n",
              "      <td>2.4607524555856317</td>\n",
              "      <td>-3.522025536442931</td>\n",
              "      <td>1.4917780247647765</td>\n",
              "      <td>-3.584071156454963</td>\n",
              "      <td>3.0648938312921565</td>\n",
              "      <td>-3.372454029754259</td>\n",
              "      <td>78.05758100411836</td>\n",
              "      <td>1.9674537886975003</td>\n",
              "      <td>-4.067012592400679</td>\n",
              "      <td>18.778538058069667</td>\n",
              "      <td>2.8385950055911917</td>\n",
              "      <td>8.0330719969409</td>\n",
              "      <td>1.0995149086057758</td>\n",
              "      <td>5.892929841322143</td>\n",
              "      <td>-0.4193658085143572</td>\n",
              "      <td>0.9095029830932616</td>\n",
              "      <td>5560.5908203125</td>\n",
              "      <td>2703.0210578505653</td>\n",
              "      <td>2511.919458466123</td>\n",
              "      <td>0.0388671875</td>\n",
              "    </tr>\n",
              "    <tr>\n",
              "      <th>3</th>\n",
              "      <td>6</td>\n",
              "      <td>0</td>\n",
              "      <td>0.7857915966490475</td>\n",
              "      <td>006f2f32.png</td>\n",
              "      <td>Hi-hat</td>\n",
              "      <td>1</td>\n",
              "      <td>-206.99954558203328</td>\n",
              "      <td>8.38140549592697</td>\n",
              "      <td>6.247459649759404</td>\n",
              "      <td>6.516367905071582</td>\n",
              "      <td>4.7749445790548135</td>\n",
              "      <td>7.389406765328549</td>\n",
              "      <td>4.069200556601301</td>\n",
              "      <td>6.6732011387319</td>\n",
              "      <td>3.875314119660163</td>\n",
              "      <td>8.54483907389167</td>\n",
              "      <td>5.067238988700776</td>\n",
              "      <td>12.039480750737233</td>\n",
              "      <td>6.3908891728799295</td>\n",
              "      <td>-6.744708012883137</td>\n",
              "      <td>13.474934044348927</td>\n",
              "      <td>7.793327765304268</td>\n",
              "      <td>6.855790786562082</td>\n",
              "      <td>7.249354802332044</td>\n",
              "      <td>8.609479266825051</td>\n",
              "      <td>1.3670076887664802</td>\n",
              "      <td>0.9762598276138306</td>\n",
              "      <td>3289.5654965753424</td>\n",
              "      <td>1313.6745394083778</td>\n",
              "      <td>1658.5982101549298</td>\n",
              "      <td>0.07009177011986302</td>\n",
              "    </tr>\n",
              "    <tr>\n",
              "      <th>4</th>\n",
              "      <td>7</td>\n",
              "      <td>0</td>\n",
              "      <td>0.4694636874845386</td>\n",
              "      <td>0091fc7f.png</td>\n",
              "      <td>Cello</td>\n",
              "      <td>1</td>\n",
              "      <td>51.30918028886032</td>\n",
              "      <td>3.8437045139416712</td>\n",
              "      <td>-1.968391338863092</td>\n",
              "      <td>1.4590299252188748</td>\n",
              "      <td>-4.554978710150653</td>\n",
              "      <td>-0.3634835905162476</td>\n",
              "      <td>-4.066000979986529</td>\n",
              "      <td>1.3487892600817688</td>\n",
              "      <td>-2.8280708602665223</td>\n",
              "      <td>2.2693629639423505</td>\n",
              "      <td>-2.3941039726308846</td>\n",
              "      <td>64.85877090739015</td>\n",
              "      <td>1.5242712020724487</td>\n",
              "      <td>-8.277920983456415</td>\n",
              "      <td>10.714432320052204</td>\n",
              "      <td>0.7583678805391958</td>\n",
              "      <td>7.926762420175914</td>\n",
              "      <td>-0.2886308192197777</td>\n",
              "      <td>5.639803226672768</td>\n",
              "      <td>-0.4502235062610916</td>\n",
              "      <td>0.9685856699943542</td>\n",
              "      <td>4963.140720274389</td>\n",
              "      <td>2303.6686276653745</td>\n",
              "      <td>2222.079281070253</td>\n",
              "      <td>0.033685451600609755</td>\n",
              "    </tr>\n",
              "  </tbody>\n",
              "</table>\n",
              "</div>"
            ],
            "text/plain": [
              "  Unnamed: 0 Unnamed: 0.1  ...   spectral_centroid    zero_crossing_rate\n",
              "0          1            0  ...   3013.667471167264  0.036462487311484916\n",
              "1          3            0  ...   3245.598952406019   0.05769481169871795\n",
              "2          5            0  ...   2511.919458466123          0.0388671875\n",
              "3          6            0  ...  1658.5982101549298   0.07009177011986302\n",
              "4          7            0  ...   2222.079281070253  0.033685451600609755\n",
              "\n",
              "[5 rows x 31 columns]"
            ]
          },
          "metadata": {
            "tags": []
          },
          "execution_count": 8
        }
      ]
    },
    {
      "cell_type": "code",
      "metadata": {
        "id": "AJQRtQj6sDoJ",
        "colab_type": "code",
        "colab": {}
      },
      "source": [
        "ver_train = train.loc[train['manually_verified'] == '1']\n",
        "train_train = train.loc[train['manually_verified'] == '0']"
      ],
      "execution_count": 0,
      "outputs": []
    },
    {
      "cell_type": "code",
      "metadata": {
        "id": "uSszu7tBsYpi",
        "colab_type": "code",
        "outputId": "2cbfba94-bc65-4f1c-f7d9-c39af11ea57a",
        "colab": {
          "base_uri": "https://localhost:8080/",
          "height": 237
        }
      },
      "source": [
        "ver_train.head()"
      ],
      "execution_count": 0,
      "outputs": [
        {
          "output_type": "execute_result",
          "data": {
            "text/html": [
              "<div>\n",
              "<style scoped>\n",
              "    .dataframe tbody tr th:only-of-type {\n",
              "        vertical-align: middle;\n",
              "    }\n",
              "\n",
              "    .dataframe tbody tr th {\n",
              "        vertical-align: top;\n",
              "    }\n",
              "\n",
              "    .dataframe thead th {\n",
              "        text-align: right;\n",
              "    }\n",
              "</style>\n",
              "<table border=\"1\" class=\"dataframe\">\n",
              "  <thead>\n",
              "    <tr style=\"text-align: right;\">\n",
              "      <th></th>\n",
              "      <th>Unnamed: 0</th>\n",
              "      <th>Unnamed: 0.1</th>\n",
              "      <th>chroma_stft</th>\n",
              "      <th>fname</th>\n",
              "      <th>label</th>\n",
              "      <th>manually_verified</th>\n",
              "      <th>mfcc1</th>\n",
              "      <th>mfcc10</th>\n",
              "      <th>mfcc11</th>\n",
              "      <th>mfcc12</th>\n",
              "      <th>mfcc13</th>\n",
              "      <th>mfcc14</th>\n",
              "      <th>mfcc15</th>\n",
              "      <th>mfcc16</th>\n",
              "      <th>mfcc17</th>\n",
              "      <th>mfcc18</th>\n",
              "      <th>mfcc19</th>\n",
              "      <th>mfcc2</th>\n",
              "      <th>mfcc20</th>\n",
              "      <th>mfcc3</th>\n",
              "      <th>mfcc4</th>\n",
              "      <th>mfcc5</th>\n",
              "      <th>mfcc6</th>\n",
              "      <th>mfcc7</th>\n",
              "      <th>mfcc8</th>\n",
              "      <th>mfcc9</th>\n",
              "      <th>rmse</th>\n",
              "      <th>rolloff</th>\n",
              "      <th>spectral_bandwidth</th>\n",
              "      <th>spectral_centroid</th>\n",
              "      <th>zero_crossing_rate</th>\n",
              "    </tr>\n",
              "  </thead>\n",
              "  <tbody>\n",
              "    <tr>\n",
              "      <th>0</th>\n",
              "      <td>1</td>\n",
              "      <td>0</td>\n",
              "      <td>0.20440595436091727</td>\n",
              "      <td>001ca53d.png</td>\n",
              "      <td>Saxophone</td>\n",
              "      <td>1</td>\n",
              "      <td>73.88207786974871</td>\n",
              "      <td>-1.915029580601592</td>\n",
              "      <td>-8.089818586751951</td>\n",
              "      <td>-0.5499569560252713</td>\n",
              "      <td>-5.4238645330027415</td>\n",
              "      <td>0.5386799424915237</td>\n",
              "      <td>-5.573923814020498</td>\n",
              "      <td>0.016405066040690162</td>\n",
              "      <td>-2.839658604060232</td>\n",
              "      <td>5.608781320891485</td>\n",
              "      <td>0.22056379680112725</td>\n",
              "      <td>27.773626202683328</td>\n",
              "      <td>4.010987789307758</td>\n",
              "      <td>-10.74694935376651</td>\n",
              "      <td>11.03761198442251</td>\n",
              "      <td>-4.838018278453661</td>\n",
              "      <td>4.092238224115404</td>\n",
              "      <td>-5.164023422553345</td>\n",
              "      <td>0.5377117268210994</td>\n",
              "      <td>-7.852135562112648</td>\n",
              "      <td>0.9232293963432312</td>\n",
              "      <td>6674.51857281395</td>\n",
              "      <td>2878.7445024067592</td>\n",
              "      <td>3013.667471167264</td>\n",
              "      <td>0.036462487311484916</td>\n",
              "    </tr>\n",
              "    <tr>\n",
              "      <th>1</th>\n",
              "      <td>3</td>\n",
              "      <td>0</td>\n",
              "      <td>0.279727365270529</td>\n",
              "      <td>00353774.png</td>\n",
              "      <td>Cello</td>\n",
              "      <td>1</td>\n",
              "      <td>76.19276765279005</td>\n",
              "      <td>6.339331537185839</td>\n",
              "      <td>-0.6600114823495926</td>\n",
              "      <td>4.499685242679059</td>\n",
              "      <td>-4.50890920081733</td>\n",
              "      <td>-0.8464678890391913</td>\n",
              "      <td>-4.5717691798013185</td>\n",
              "      <td>0.4935902924189233</td>\n",
              "      <td>-4.572782833773527</td>\n",
              "      <td>3.684965795286225</td>\n",
              "      <td>0.1252839382956926</td>\n",
              "      <td>25.364872434439217</td>\n",
              "      <td>4.653926803365988</td>\n",
              "      <td>-12.743591974486913</td>\n",
              "      <td>11.450991270420136</td>\n",
              "      <td>-7.044229459006758</td>\n",
              "      <td>2.2985904481052573</td>\n",
              "      <td>-5.0456846965704925</td>\n",
              "      <td>3.625584752808861</td>\n",
              "      <td>0.35208521980384466</td>\n",
              "      <td>0.9271434545516968</td>\n",
              "      <td>6702.84442608173</td>\n",
              "      <td>2805.883302948308</td>\n",
              "      <td>3245.598952406019</td>\n",
              "      <td>0.05769481169871795</td>\n",
              "    </tr>\n",
              "    <tr>\n",
              "      <th>2</th>\n",
              "      <td>5</td>\n",
              "      <td>0</td>\n",
              "      <td>0.6343485051473369</td>\n",
              "      <td>0048fd00.png</td>\n",
              "      <td>Gunshot_or_gunfire</td>\n",
              "      <td>1</td>\n",
              "      <td>118.43283307990806</td>\n",
              "      <td>4.273109338172453</td>\n",
              "      <td>-2.8129454025752114</td>\n",
              "      <td>2.2419198620235483</td>\n",
              "      <td>-3.316026475426633</td>\n",
              "      <td>2.4607524555856317</td>\n",
              "      <td>-3.522025536442931</td>\n",
              "      <td>1.4917780247647765</td>\n",
              "      <td>-3.584071156454963</td>\n",
              "      <td>3.0648938312921565</td>\n",
              "      <td>-3.372454029754259</td>\n",
              "      <td>78.05758100411836</td>\n",
              "      <td>1.9674537886975003</td>\n",
              "      <td>-4.067012592400679</td>\n",
              "      <td>18.778538058069667</td>\n",
              "      <td>2.8385950055911917</td>\n",
              "      <td>8.0330719969409</td>\n",
              "      <td>1.0995149086057758</td>\n",
              "      <td>5.892929841322143</td>\n",
              "      <td>-0.4193658085143572</td>\n",
              "      <td>0.9095029830932616</td>\n",
              "      <td>5560.5908203125</td>\n",
              "      <td>2703.0210578505653</td>\n",
              "      <td>2511.919458466123</td>\n",
              "      <td>0.0388671875</td>\n",
              "    </tr>\n",
              "    <tr>\n",
              "      <th>3</th>\n",
              "      <td>6</td>\n",
              "      <td>0</td>\n",
              "      <td>0.7857915966490475</td>\n",
              "      <td>006f2f32.png</td>\n",
              "      <td>Hi-hat</td>\n",
              "      <td>1</td>\n",
              "      <td>-206.99954558203328</td>\n",
              "      <td>8.38140549592697</td>\n",
              "      <td>6.247459649759404</td>\n",
              "      <td>6.516367905071582</td>\n",
              "      <td>4.7749445790548135</td>\n",
              "      <td>7.389406765328549</td>\n",
              "      <td>4.069200556601301</td>\n",
              "      <td>6.6732011387319</td>\n",
              "      <td>3.875314119660163</td>\n",
              "      <td>8.54483907389167</td>\n",
              "      <td>5.067238988700776</td>\n",
              "      <td>12.039480750737233</td>\n",
              "      <td>6.3908891728799295</td>\n",
              "      <td>-6.744708012883137</td>\n",
              "      <td>13.474934044348927</td>\n",
              "      <td>7.793327765304268</td>\n",
              "      <td>6.855790786562082</td>\n",
              "      <td>7.249354802332044</td>\n",
              "      <td>8.609479266825051</td>\n",
              "      <td>1.3670076887664802</td>\n",
              "      <td>0.9762598276138306</td>\n",
              "      <td>3289.5654965753424</td>\n",
              "      <td>1313.6745394083778</td>\n",
              "      <td>1658.5982101549298</td>\n",
              "      <td>0.07009177011986302</td>\n",
              "    </tr>\n",
              "    <tr>\n",
              "      <th>4</th>\n",
              "      <td>7</td>\n",
              "      <td>0</td>\n",
              "      <td>0.4694636874845386</td>\n",
              "      <td>0091fc7f.png</td>\n",
              "      <td>Cello</td>\n",
              "      <td>1</td>\n",
              "      <td>51.30918028886032</td>\n",
              "      <td>3.8437045139416712</td>\n",
              "      <td>-1.968391338863092</td>\n",
              "      <td>1.4590299252188748</td>\n",
              "      <td>-4.554978710150653</td>\n",
              "      <td>-0.3634835905162476</td>\n",
              "      <td>-4.066000979986529</td>\n",
              "      <td>1.3487892600817688</td>\n",
              "      <td>-2.8280708602665223</td>\n",
              "      <td>2.2693629639423505</td>\n",
              "      <td>-2.3941039726308846</td>\n",
              "      <td>64.85877090739015</td>\n",
              "      <td>1.5242712020724487</td>\n",
              "      <td>-8.277920983456415</td>\n",
              "      <td>10.714432320052204</td>\n",
              "      <td>0.7583678805391958</td>\n",
              "      <td>7.926762420175914</td>\n",
              "      <td>-0.2886308192197777</td>\n",
              "      <td>5.639803226672768</td>\n",
              "      <td>-0.4502235062610916</td>\n",
              "      <td>0.9685856699943542</td>\n",
              "      <td>4963.140720274389</td>\n",
              "      <td>2303.6686276653745</td>\n",
              "      <td>2222.079281070253</td>\n",
              "      <td>0.033685451600609755</td>\n",
              "    </tr>\n",
              "  </tbody>\n",
              "</table>\n",
              "</div>"
            ],
            "text/plain": [
              "  Unnamed: 0 Unnamed: 0.1  ...   spectral_centroid    zero_crossing_rate\n",
              "0          1            0  ...   3013.667471167264  0.036462487311484916\n",
              "1          3            0  ...   3245.598952406019   0.05769481169871795\n",
              "2          5            0  ...   2511.919458466123          0.0388671875\n",
              "3          6            0  ...  1658.5982101549298   0.07009177011986302\n",
              "4          7            0  ...   2222.079281070253  0.033685451600609755\n",
              "\n",
              "[5 rows x 31 columns]"
            ]
          },
          "metadata": {
            "tags": []
          },
          "execution_count": 10
        }
      ]
    },
    {
      "cell_type": "code",
      "metadata": {
        "id": "PJUQNbvazdOK",
        "colab_type": "code",
        "colab": {}
      },
      "source": [
        "datagen = ImageDataGenerator(rescale=1./255.) "
      ],
      "execution_count": 0,
      "outputs": []
    },
    {
      "cell_type": "code",
      "metadata": {
        "id": "ULlezKfiCytv",
        "colab_type": "code",
        "outputId": "9e8e39c5-413d-445d-b57a-78f9eed9728c",
        "colab": {
          "base_uri": "https://localhost:8080/",
          "height": 32
        }
      },
      "source": [
        "cd /content/drive/Shared drives/301FP/unzipped/train_img_original2/"
      ],
      "execution_count": 0,
      "outputs": [
        {
          "output_type": "stream",
          "text": [
            "/content/drive/Shared drives/301FP/unzipped/train_img_original2\n"
          ],
          "name": "stdout"
        }
      ]
    },
    {
      "cell_type": "code",
      "metadata": {
        "id": "D5zGt3g-hkty",
        "colab_type": "code",
        "outputId": "c71fd207-6caa-4a83-e3fa-0721129af549",
        "colab": {
          "base_uri": "https://localhost:8080/",
          "height": 32
        }
      },
      "source": [
        "listOfFiles = os.listdir('/content/drive/Shared drives/301FP/unzipped/train_img_original2/')\n",
        "print(len(listOfFiles))"
      ],
      "execution_count": 0,
      "outputs": [
        {
          "output_type": "stream",
          "text": [
            "2757\n"
          ],
          "name": "stdout"
        }
      ]
    },
    {
      "cell_type": "markdown",
      "metadata": {
        "id": "L1aUOkzsMGV3",
        "colab_type": "text"
      },
      "source": [
        "Create train and validation generators for the CNN"
      ]
    },
    {
      "cell_type": "code",
      "metadata": {
        "id": "GB0CH41L0N4P",
        "colab_type": "code",
        "outputId": "886590dd-79da-4473-fbf9-f094993e7206",
        "colab": {
          "base_uri": "https://localhost:8080/",
          "height": 32
        }
      },
      "source": [
        "train_generator=datagen.flow_from_dataframe(\n",
        "    dataframe = train_train,\n",
        "    directory=\"/content/drive/Shared drives/301FP/unzipped/train_img_original2/\",\n",
        "    x_col=\"fname\",\n",
        "    y_col=\"label\",\n",
        "    subset=\"training\",\n",
        "    batch_size=64,\n",
        "    seed=1,\n",
        "    shuffle=True,\n",
        "    class_mode=\"categorical\",\n",
        "    target_size=(288,432))"
      ],
      "execution_count": 0,
      "outputs": [
        {
          "output_type": "stream",
          "text": [
            "Found 1501 validated image filenames belonging to 10 classes.\n"
          ],
          "name": "stdout"
        }
      ]
    },
    {
      "cell_type": "code",
      "metadata": {
        "id": "vJcOMWGq0p65",
        "colab_type": "code",
        "outputId": "96fcfeb5-6e35-4cf7-dd50-5d0a5eb4248f",
        "colab": {
          "base_uri": "https://localhost:8080/",
          "height": 32
        }
      },
      "source": [
        "valid_generator=datagen.flow_from_dataframe(\n",
        "    dataframe = ver_train,\n",
        "    directory=\"/content/drive/Shared drives/301FP/unzipped/train_img_original2/\",\n",
        "    x_col=\"fname\",\n",
        "    y_col=\"label\",\n",
        "    subset=\"training\",\n",
        "    batch_size=64,\n",
        "    seed=1,\n",
        "    shuffle=True,\n",
        "    class_mode=\"categorical\",\n",
        "    target_size=(288,432))"
      ],
      "execution_count": 0,
      "outputs": [
        {
          "output_type": "stream",
          "text": [
            "Found 1256 validated image filenames belonging to 10 classes.\n"
          ],
          "name": "stdout"
        }
      ]
    },
    {
      "cell_type": "code",
      "metadata": {
        "id": "ZHSj0V4503Vo",
        "colab_type": "code",
        "colab": {}
      },
      "source": [
        "ss_train = train_generator.n//train_generator.batch_size"
      ],
      "execution_count": 0,
      "outputs": []
    },
    {
      "cell_type": "code",
      "metadata": {
        "id": "7f6IJQhUrPIr",
        "colab_type": "code",
        "colab": {}
      },
      "source": [
        "ss_valid = valid_generator.n//valid_generator.batch_size"
      ],
      "execution_count": 0,
      "outputs": []
    },
    {
      "cell_type": "code",
      "metadata": {
        "id": "niNNUfca03rC",
        "colab_type": "code",
        "colab": {}
      },
      "source": [
        "model.fit_generator(generator = train_generator, steps_per_epoch=ss_train, epochs=40)"
      ],
      "execution_count": 0,
      "outputs": []
    },
    {
      "cell_type": "code",
      "metadata": {
        "id": "ATm71XuJrUcq",
        "colab_type": "code",
        "colab": {}
      },
      "source": [
        "model.fit_generator(generator = valid_generator, steps_per_epoch=ss_valid, epochs=30)"
      ],
      "execution_count": 0,
      "outputs": []
    },
    {
      "cell_type": "code",
      "metadata": {
        "id": "vBP_ltUTGPYP",
        "colab_type": "code",
        "colab": {}
      },
      "source": [
        "listOfFiles = os.listdir('/content/drive/Shared drives/301FP/unzipped/test_img_raw/')"
      ],
      "execution_count": 0,
      "outputs": []
    },
    {
      "cell_type": "code",
      "metadata": {
        "id": "6P_MhxLVJPZG",
        "colab_type": "code",
        "colab": {}
      },
      "source": [
        "testdf = pd.DataFrame()"
      ],
      "execution_count": 0,
      "outputs": []
    },
    {
      "cell_type": "code",
      "metadata": {
        "id": "nSL5P8VRJf3r",
        "colab_type": "code",
        "colab": {}
      },
      "source": [
        "testdf['fname'] = listOfFiles"
      ],
      "execution_count": 0,
      "outputs": []
    },
    {
      "cell_type": "code",
      "metadata": {
        "id": "P4XfyJyjNJre",
        "colab_type": "code",
        "colab": {}
      },
      "source": [
        "len(testdf)"
      ],
      "execution_count": 0,
      "outputs": []
    },
    {
      "cell_type": "code",
      "metadata": {
        "id": "UKm7uLROG9I-",
        "colab_type": "code",
        "colab": {}
      },
      "source": [
        "testdf.head()"
      ],
      "execution_count": 0,
      "outputs": []
    },
    {
      "cell_type": "code",
      "metadata": {
        "id": "QBVvp_JM09Au",
        "colab_type": "code",
        "colab": {}
      },
      "source": [
        "test_datagenerator = ImageDataGenerator(rescale=1./255.)\n",
        "test_generator = test_datagenerator.flow_from_dataframe(\n",
        "    dataframe=testdf,\n",
        "    directory=\"/content/drive/Shared drives/301FP/unzipped/test_img_raw/\",\n",
        "    x_col=\"fname\",\n",
        "    y_col=None,\n",
        "    batch_size=64,\n",
        "    seed=1,\n",
        "    shuffle=False,\n",
        "    class_mode=None,\n",
        "    target_size=(288,432))\n",
        "\n",
        "ss_test = test_generator.n//test_generator.batch_size + 1 # need to add one to get all test images to be predicted"
      ],
      "execution_count": 0,
      "outputs": []
    },
    {
      "cell_type": "code",
      "metadata": {
        "id": "eOOO3UkQBzNA",
        "colab_type": "code",
        "colab": {}
      },
      "source": [
        "cd /content/drive/Shared drives/301FP/unzipped/test_img_raw"
      ],
      "execution_count": 0,
      "outputs": []
    },
    {
      "cell_type": "code",
      "metadata": {
        "id": "pfj-0j_8JsHb",
        "colab_type": "code",
        "colab": {}
      },
      "source": [
        "test_generator.reset()\n",
        "pred=model.predict_generator(test_generator,steps=ss_test,verbose=1)"
      ],
      "execution_count": 0,
      "outputs": []
    },
    {
      "cell_type": "code",
      "metadata": {
        "id": "izrxncloOLci",
        "colab_type": "code",
        "colab": {}
      },
      "source": [
        "len(pred)"
      ],
      "execution_count": 0,
      "outputs": []
    },
    {
      "cell_type": "code",
      "metadata": {
        "id": "gu5DJo3KHEdo",
        "colab_type": "code",
        "colab": {}
      },
      "source": [
        "fnames = testdf['fname']"
      ],
      "execution_count": 0,
      "outputs": []
    },
    {
      "cell_type": "code",
      "metadata": {
        "id": "KpaxxgbvJxsl",
        "colab_type": "code",
        "colab": {}
      },
      "source": [
        "labels = (train_generator.class_indices)\n",
        "labels = dict((v,k) for k,v in labels.items())\n",
        "predicted_class_indices = np.argmax(pred,axis=1)\n",
        "predictions = [labels[k] for k in predicted_class_indices]\n",
        "print(predictions)"
      ],
      "execution_count": 0,
      "outputs": []
    },
    {
      "cell_type": "code",
      "metadata": {
        "id": "6ezt20ZFGtQG",
        "colab_type": "code",
        "colab": {}
      },
      "source": [
        "testdf"
      ],
      "execution_count": 0,
      "outputs": []
    },
    {
      "cell_type": "markdown",
      "metadata": {
        "id": "cLXypmpdrq5Z",
        "colab_type": "text"
      },
      "source": [
        "Creating Submission Frame"
      ]
    },
    {
      "cell_type": "code",
      "metadata": {
        "id": "hJ2eOMMpuSAU",
        "colab_type": "code",
        "colab": {}
      },
      "source": [
        "testdf['label'] = predictions"
      ],
      "execution_count": 0,
      "outputs": []
    },
    {
      "cell_type": "code",
      "metadata": {
        "id": "o1LMukEjuXwK",
        "colab_type": "code",
        "colab": {}
      },
      "source": [
        "testdf.head(1)"
      ],
      "execution_count": 0,
      "outputs": []
    },
    {
      "cell_type": "code",
      "metadata": {
        "id": "IXB-ex2RvHgk",
        "colab_type": "code",
        "colab": {}
      },
      "source": [
        "def append_ext2(fn):\n",
        "  return fn+\".wav\"\n",
        "testdf['fname'] = testdf['fname'].str[:-4].apply(append_ext2)\n"
      ],
      "execution_count": 0,
      "outputs": []
    },
    {
      "cell_type": "code",
      "metadata": {
        "id": "xoFhSSuIN9GH",
        "colab_type": "code",
        "colab": {}
      },
      "source": [
        "testdf.head()"
      ],
      "execution_count": 0,
      "outputs": []
    },
    {
      "cell_type": "code",
      "metadata": {
        "id": "AZJ_lBnjvqfQ",
        "colab_type": "code",
        "colab": {}
      },
      "source": [
        "# testdf.to_csv('/content/drive/Shared drives/301FP/Data_Folder/cnn_predictions.csv', index=False)"
      ],
      "execution_count": 0,
      "outputs": []
    },
    {
      "cell_type": "code",
      "metadata": {
        "id": "_TiQ7Z3B0BZe",
        "colab_type": "code",
        "colab": {}
      },
      "source": [
        "# testdf = pd.read_csv('/content/drive/Shared drives/301FP/Data_Folder/cnn_predictions.csv')"
      ],
      "execution_count": 0,
      "outputs": []
    },
    {
      "cell_type": "code",
      "metadata": {
        "id": "pdiH0O3v0FDs",
        "colab_type": "code",
        "colab": {}
      },
      "source": [
        "testdf = testdf.set_index('fname')"
      ],
      "execution_count": 0,
      "outputs": []
    },
    {
      "cell_type": "code",
      "metadata": {
        "id": "z4UogR20x9ce",
        "colab_type": "code",
        "colab": {}
      },
      "source": [
        "testdf.head()"
      ],
      "execution_count": 0,
      "outputs": []
    },
    {
      "cell_type": "code",
      "metadata": {
        "id": "_oEBBM9y0I5V",
        "colab_type": "code",
        "colab": {}
      },
      "source": [
        "testdf.to_csv('/content/drive/Shared drives/301FP/Data_Folder/cnn_pred_long_Retry_XGpre18.csv')"
      ],
      "execution_count": 0,
      "outputs": []
    },
    {
      "cell_type": "code",
      "metadata": {
        "id": "6dCq6xxQx7dq",
        "colab_type": "code",
        "colab": {}
      },
      "source": [
        ""
      ],
      "execution_count": 0,
      "outputs": []
    }
  ]
}